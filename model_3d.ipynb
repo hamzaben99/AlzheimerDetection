{
 "cells": [
  {
   "cell_type": "markdown",
   "metadata": {
    "pycharm": {
     "name": "#%% md\n"
    }
   },
   "source": [
    "# Model 3D: Alzheimer desease detection using volume patches"
   ]
  },
  {
   "cell_type": "markdown",
   "metadata": {
    "pycharm": {
     "name": "#%% md\n"
    }
   },
   "source": [
    "Processing data by applying masks and storing result images into a new directory"
   ]
  },
  {
   "cell_type": "code",
   "execution_count": 1,
   "metadata": {
    "collapsed": false,
    "jupyter": {
     "outputs_hidden": false
    },
    "pycharm": {
     "name": "#%%\n"
    }
   },
   "outputs": [],
   "source": [
    "import os\n",
    "import numpy as np\n",
    "from utils import *\n",
    "from pathlib import Path"
   ]
  },
  {
   "cell_type": "code",
   "execution_count": 2,
   "metadata": {},
   "outputs": [],
   "source": [
    "if not os.path.isdir(\"ADNI_PROCESSED\"):\n",
    "    process_irm_data()"
   ]
  },
  {
   "cell_type": "markdown",
   "metadata": {
    "pycharm": {
     "name": "#%% md\n"
    }
   },
   "source": [
    "Cut 3D patches using x, y, z"
   ]
  },
  {
   "cell_type": "code",
   "execution_count": 5,
   "metadata": {
    "execution": {
     "iopub.execute_input": "2021-12-09T15:17:03.762132Z",
     "iopub.status.busy": "2021-12-09T15:17:03.761853Z",
     "iopub.status.idle": "2021-12-09T15:17:03.774758Z",
     "shell.execute_reply": "2021-12-09T15:17:03.773876Z",
     "shell.execute_reply.started": "2021-12-09T15:17:03.762100Z"
    }
   },
   "outputs": [],
   "source": [
    "def custom_patch_3D(img_n_mmni, x_tup, y_tup, z_tup):\n",
    "    axe_dim = {\"x\": img_n_mmni.shape[0], \"y\": img_n_mmni.shape[1], \"z\":img_n_mmni.shape[2]}\n",
    "    if axe_dim[\"x\"] <= x_tup[1] or x_tup[0] < 0 or axe_dim[\"y\"] <= y_tup[1] or y_tup[0] < 0 or axe_dim[\"z\"] <= z_tup[1] or z_tup[0] < 0 :\n",
    "        print(\"Invalid values\")\n",
    "        return \n",
    "    else:\n",
    "        cropped_img = img_n_mmni.slicer[x_tup[0]:x_tup[1], y_tup[0]:y_tup[1], z_tup[0]:z_tup[1]]\n",
    "        img_data = cropped_img.get_fdata()\n",
    "        img_data.resize(img_data.shape + (1, ))\n",
    "        return img_data"
   ]
  },
  {
   "cell_type": "code",
   "execution_count": 3,
   "metadata": {
    "execution": {
     "iopub.execute_input": "2021-12-09T15:16:23.258764Z",
     "iopub.status.busy": "2021-12-09T15:16:23.258232Z",
     "iopub.status.idle": "2021-12-09T15:16:24.152746Z",
     "shell.execute_reply": "2021-12-09T15:16:24.151998Z",
     "shell.execute_reply.started": "2021-12-09T15:16:23.258719Z"
    }
   },
   "outputs": [
    {
     "data": {
      "text/html": [
       "<div>\n",
       "<style scoped>\n",
       "    .dataframe tbody tr th:only-of-type {\n",
       "        vertical-align: middle;\n",
       "    }\n",
       "\n",
       "    .dataframe tbody tr th {\n",
       "        vertical-align: top;\n",
       "    }\n",
       "\n",
       "    .dataframe thead th {\n",
       "        text-align: right;\n",
       "    }\n",
       "</style>\n",
       "<table border=\"1\" class=\"dataframe\">\n",
       "  <thead>\n",
       "    <tr style=\"text-align: right;\">\n",
       "      <th></th>\n",
       "      <th>Rooster ID</th>\n",
       "      <th>Group</th>\n",
       "    </tr>\n",
       "    <tr>\n",
       "      <th>Subject ID</th>\n",
       "      <th></th>\n",
       "      <th></th>\n",
       "    </tr>\n",
       "  </thead>\n",
       "  <tbody>\n",
       "    <tr>\n",
       "      <th>002_S_0295</th>\n",
       "      <td>295</td>\n",
       "      <td>CN</td>\n",
       "    </tr>\n",
       "    <tr>\n",
       "      <th>002_S_0413</th>\n",
       "      <td>413</td>\n",
       "      <td>CN</td>\n",
       "    </tr>\n",
       "    <tr>\n",
       "      <th>002_S_0559</th>\n",
       "      <td>559</td>\n",
       "      <td>CN</td>\n",
       "    </tr>\n",
       "    <tr>\n",
       "      <th>002_S_0619</th>\n",
       "      <td>619</td>\n",
       "      <td>AD</td>\n",
       "    </tr>\n",
       "    <tr>\n",
       "      <th>002_S_0685</th>\n",
       "      <td>685</td>\n",
       "      <td>CN</td>\n",
       "    </tr>\n",
       "    <tr>\n",
       "      <th>002_S_0816</th>\n",
       "      <td>816</td>\n",
       "      <td>AD</td>\n",
       "    </tr>\n",
       "    <tr>\n",
       "      <th>002_S_0938</th>\n",
       "      <td>938</td>\n",
       "      <td>AD</td>\n",
       "    </tr>\n",
       "  </tbody>\n",
       "</table>\n",
       "</div>"
      ],
      "text/plain": [
       "            Rooster ID Group\n",
       "Subject ID                  \n",
       "002_S_0295         295    CN\n",
       "002_S_0413         413    CN\n",
       "002_S_0559         559    CN\n",
       "002_S_0619         619    AD\n",
       "002_S_0685         685    CN\n",
       "002_S_0816         816    AD\n",
       "002_S_0938         938    AD"
      ]
     },
     "execution_count": 3,
     "metadata": {},
     "output_type": "execute_result"
    }
   ],
   "source": [
    "path = str(Path().resolve()) + \"/ADNI1/list_standardized_tongtong_2017.csv\"\n",
    "y_data = load_data(path)\n",
    "y_data.head(7)"
   ]
  },
  {
   "cell_type": "markdown",
   "metadata": {
    "pycharm": {
     "name": "#%% md\n"
    }
   },
   "source": [
    "Prepare training on one hyppocampus\n",
    "- Cut 3D patches and store them into a trainin set.\n",
    "- Constructing y_train with 0 and 1 by checking labels of images"
   ]
  },
  {
   "cell_type": "code",
   "execution_count": 59,
   "metadata": {
    "execution": {
     "iopub.execute_input": "2021-12-09T15:42:08.191258Z",
     "iopub.status.busy": "2021-12-09T15:42:08.190957Z",
     "iopub.status.idle": "2021-12-09T15:42:12.607509Z",
     "shell.execute_reply": "2021-12-09T15:42:12.606716Z",
     "shell.execute_reply.started": "2021-12-09T15:42:08.191223Z"
    }
   },
   "outputs": [
    {
     "name": "stdout",
     "output_type": "stream",
     "text": [
      "True\n",
      "415\n"
     ]
    }
   ],
   "source": [
    "from tensorflow.keras.utils import to_categorical\n",
    "# x y z hypocamp = \n",
    "#x = 40, 80   autre  140\n",
    "#y = 90, 130  autre 132\n",
    "#z = 40, 80   autre 77\n",
    "usecols = ['Subject ID', 'Rooster ID', 'Group']\n",
    "# ['CN', 'AD']\n",
    "def prepare_X_of_Y_3D(Y):\n",
    "    X_data = []\n",
    "    Y_data = []\n",
    "    X_test_index = []\n",
    "    path = str(Path().resolve()) + \"/ADNI_PROCESSED\"\n",
    "    n_test_AD = 0\n",
    "    n_test_CN = 0\n",
    "    for index, row in Y.iterrows():\n",
    "        file = path + '/n_mmni_fADNI_' + index + '_1.5T_t1w.nii.gz'\n",
    "        if os.path.isfile(file):\n",
    "            img_n_mmni = nib.load(file)\n",
    "            # Taking 4 images for test purpose\n",
    "            if (Y['Group'][index] == 'AD' and n_test_AD < 2) or (Y['Group'][index] == 'CN' and n_test_CN < 2):\n",
    "                n_test_AD += 1 if Y['Group'][index] == 'AD' else n_test_AD\n",
    "                n_test_CN += 1 if Y['Group'][index] == 'CN' else n_test_CN\n",
    "                X_test_index.append(index)\n",
    "            else:\n",
    "                img_data = custom_patch_3D(img_n_mmni, x_tup=(100,140), y_tup=(90, 130), z_tup=(40, 80))\n",
    "                X_data.append(img_data)\n",
    "                if Y['Group'][index] == 'AD':\n",
    "                    Y_data.append(1)\n",
    "                elif Y['Group'][index] == 'CN':\n",
    "                    Y_data.append(0)\n",
    "        else:\n",
    "            Y.drop(index, inplace=True)\n",
    "    return np.array(X_data), Y_data, X_test_index\n",
    "\n",
    "X_data_3D, Y_data_list_3D, X_test_index_3D = prepare_X_of_Y_3D(y_data)\n",
    "Y_data_3D = to_categorical(Y_data_list_3D, num_classes=2)\n",
    "    \n",
    "print(len(X_data_3D) == len(Y_data_3D))\n",
    "print(len(X_data_3D))"
   ]
  },
  {
   "cell_type": "code",
   "execution_count": 51,
   "metadata": {
    "execution": {
     "iopub.execute_input": "2021-12-09T15:40:33.396041Z",
     "iopub.status.busy": "2021-12-09T15:40:33.395281Z",
     "iopub.status.idle": "2021-12-09T15:40:33.402553Z",
     "shell.execute_reply": "2021-12-09T15:40:33.401792Z",
     "shell.execute_reply.started": "2021-12-09T15:40:33.395992Z"
    }
   },
   "outputs": [
    {
     "data": {
      "text/plain": [
       "(415, 40, 40, 40, 1)"
      ]
     },
     "execution_count": 51,
     "metadata": {},
     "output_type": "execute_result"
    }
   ],
   "source": [
    "import pandas as pd\n",
    "X_data_3D.shape"
   ]
  },
  {
   "cell_type": "markdown",
   "metadata": {
    "pycharm": {
     "name": "#%% md\n"
    }
   },
   "source": [
    "This function is to run if you want to prepare a trainig set composed with left and write hyppocampus"
   ]
  },
  {
   "cell_type": "code",
   "execution_count": null,
   "metadata": {
    "collapsed": false,
    "jupyter": {
     "outputs_hidden": false
    },
    "pycharm": {
     "name": "#%%\n"
    }
   },
   "outputs": [],
   "source": [
    "from tensorflow.keras.utils import to_categorical\n",
    "# x y z hypocamp =\n",
    "#x = 40, 80   autre  140\n",
    "#y = 90, 130  autre 132\n",
    "#z = 40, 80   autre 77\n",
    "usecols = ['Subject ID', 'Rooster ID', 'Group']\n",
    "# ['CN', 'AD']\n",
    "def prepare_X_of_Y_3D_left(Y):\n",
    "    X_data = []\n",
    "    Y_data = []\n",
    "    X_test_index = []\n",
    "    path = str(Path().resolve()) + \"/ADNI_PROCESSED\"\n",
    "    n_test_AD = 0\n",
    "    n_test_CN = 0\n",
    "    for index, row in Y.iterrows():\n",
    "        file = path + '/n_mmni_fADNI_' + index + '_1.5T_t1w.nii.gz'\n",
    "        if os.path.isfile(file):\n",
    "            img_n_mmni = nib.load(file)\n",
    "            # Taking 4 images for test purpose\n",
    "            if (Y['Group'][index] == 'AD' and n_test_AD < 2) or (Y['Group'][index] == 'CN' and n_test_CN < 2):\n",
    "                n_test_AD += 1 if Y['Group'][index] == 'AD' else n_test_AD\n",
    "                n_test_CN += 1 if Y['Group'][index] == 'CN' else n_test_CN\n",
    "                X_test_index.append(index)\n",
    "            else:\n",
    "                img_data = custom_patch_3D(img_n_mmni, x_tup=(90,130), y_tup=(90, 130), z_tup=(40, 80))\n",
    "                X_data.append(img_data)\n",
    "                if Y['Group'][index] == 'AD':\n",
    "                    Y_data.append(1)\n",
    "                elif Y['Group'][index] == 'CN':\n",
    "                    Y_data.append(0)\n",
    "        else:\n",
    "            Y.drop(index, inplace=True)\n",
    "    return np.array(X_data), Y_data, X_test_index\n",
    "\n",
    "def prepare_X_of_Y_3D_right(Y):\n",
    "    X_data = []\n",
    "    Y_data = []\n",
    "    X_test_index = []\n",
    "    Y_test = []\n",
    "    path = str(Path().resolve()) + \"/ADNI_PROCESSED\"\n",
    "    n_test_AD = 0\n",
    "    n_test_CN = 0\n",
    "    #f = open(path, \"r\")\n",
    "    for index, row in Y.iterrows():\n",
    "        file = path + '/n_mmni_fADNI_' + index + '_1.5T_t1w.nii.gz'\n",
    "        if os.path.isfile(file):\n",
    "            img_n_mmni = nib.load(file)\n",
    "            # Taking 4 images for test purpose\n",
    "            if (Y['Group'][index] == 'AD' and n_test_AD < 2) or (Y['Group'][index] == 'CN' and n_test_CN < 2):\n",
    "                n_test_AD += 1 if Y['Group'][index] == 'AD' else n_test_AD\n",
    "                n_test_CN += 1 if Y['Group'][index] == 'CN' else n_test_CN\n",
    "                X_test_index.append(index)\n",
    "            else:\n",
    "                img_data = custom_patch_3D(img_n_mmni, x_tup=(100,140), y_tup=(90, 130), z_tup=(40, 80))\n",
    "                img_data = np.transpose(img_data, (0, 1, 2, 3))\n",
    "                X_data.append(img_data)\n",
    "                if Y['Group'][index] == 'AD':\n",
    "                    Y_data.append(1)\n",
    "                elif Y['Group'][index] == 'CN':\n",
    "                    Y_data.append(0)\n",
    "        else:\n",
    "            Y.drop(index, inplace=True)\n",
    "    return np.array(X_data), Y_data, X_test_index\n",
    "\n",
    "X_data_3D_right, Y_data_list_3D_right, X_test_index_3D_right = prepare_X_of_Y_3D_right(y_data)\n",
    "X_data_3D_left, Y_data_list_3D_left, X_test_index_3D_left = prepare_X_of_Y_3D_right(y_data)\n",
    "\n",
    "X_data_3D = np.concatenate((X_data_3D_right, X_data_3D_left))\n",
    "X_test_index_3D =Y_data_list_3D = np.concatenate((X_test_index_3D_right, X_test_index_3D_left))\n",
    "\n",
    "Y_data_3D_left = to_categorical(Y_data_list_3D_left, num_classes=2)\n",
    "Y_data_3D_right = to_categorical(Y_data_list_3D_right, num_classes=2)\n",
    "\n",
    "Y_data_3D = np.concatenate((Y_data_3D_right, Y_data_3D_left))\n",
    "\n",
    "print(len(X_data_3D) == len(Y_data_3D))\n",
    "print(len(X_data_3D))"
   ]
  },
  {
   "cell_type": "code",
   "execution_count": null,
   "metadata": {
    "collapsed": false,
    "jupyter": {
     "outputs_hidden": false
    },
    "pycharm": {
     "name": "#%%\n"
    }
   },
   "outputs": [],
   "source": [
    "X_data_3D[0].shape"
   ]
  },
  {
   "cell_type": "markdown",
   "metadata": {
    "pycharm": {
     "name": "#%% md\n"
    }
   },
   "source": [
    "Diffrent slices of the selected 3D patch"
   ]
  },
  {
   "cell_type": "code",
   "execution_count": 83,
   "metadata": {
    "execution": {
     "iopub.execute_input": "2021-12-09T15:56:48.322143Z",
     "iopub.status.busy": "2021-12-09T15:56:48.321854Z",
     "iopub.status.idle": "2021-12-09T15:56:48.718670Z",
     "shell.execute_reply": "2021-12-09T15:56:48.717987Z",
     "shell.execute_reply.started": "2021-12-09T15:56:48.322112Z"
    }
   },
   "outputs": [
    {
     "data": {
      "image/png": "[encoded data removed]",
      "text/plain": [
       "<Figure size 576x576 with 3 Axes>"
      ]
     },
     "metadata": {
      "needs_background": "light"
     },
     "output_type": "display_data"
    }
   ],
   "source": [
    "from nibabel.viewers import OrthoSlicer3D\n",
    "OrthoSlicer3D(X_data_3D[400]).show()"
   ]
  },
  {
   "cell_type": "markdown",
   "metadata": {},
   "source": [
    "### 3D implementation of classification model (one hyppocaampus)\n",
    "- Creation of an auto-encoder model and an only encoder model.\n",
    "- compilation of the model using adam optimizer, and binary_crossentropy loss.- fiting the model using GPU if it exists."
   ]
  },
  {
   "cell_type": "code",
   "execution_count": 79,
   "metadata": {
    "execution": {
     "iopub.execute_input": "2021-12-09T15:51:27.152948Z",
     "iopub.status.busy": "2021-12-09T15:51:27.152373Z",
     "iopub.status.idle": "2021-12-09T15:51:27.167740Z",
     "shell.execute_reply": "2021-12-09T15:51:27.167025Z",
     "shell.execute_reply.started": "2021-12-09T15:51:27.152903Z"
    }
   },
   "outputs": [],
   "source": [
    "from tensorflow.keras.layers import Conv2D, SeparableConv2D, MaxPooling2D, UpSampling2D, Cropping2D, Conv3D, MaxPooling3D, UpSampling3D, Cropping3D, Input, concatenate, Flatten, Dense, Dropout, BatchNormalization, Activation, BatchNormalization, GlobalAveragePooling2D, GlobalAveragePooling3D, add\n",
    "from tensorflow.keras.models import Model\n",
    "\n",
    "def create_Unet_model3D_encoder(input_size, depth=5, padding='valid', nb_class=2):\n",
    "    inputs = Input(shape=input_size)\n",
    "    x = inputs\n",
    "    num_filters = 64\n",
    "    for i in range(depth):\n",
    "        x = Conv3D(filters=num_filters, kernel_size=(3,3,3), padding=padding)(x)\n",
    "        x = BatchNormalization()(x)\n",
    "        x = Activation('relu')(x)\n",
    "        x = Conv3D(filters=num_filters, kernel_size=(3,3,3), padding=padding)(x)\n",
    "        x = BatchNormalization()(x)\n",
    "        x = Activation('relu')(x)\n",
    "        if i != depth - 1:\n",
    "            x = MaxPooling3D(pool_size=(2,2,2), strides=2)(x)\n",
    "            num_filters *= 2\n",
    "    \n",
    "        x = Dropout(0.7)(x)\n",
    "    \n",
    "    x = Flatten()(x)\n",
    "    # x = GlobalAveragePooling2D()(x)\n",
    "    x = Dense(512, activation='relu', kernel_regularizer='l2')(x)\n",
    "    x = BatchNormalization()(x)\n",
    "    x = Dropout(0.5)(x)\n",
    "    \n",
    "    \n",
    "    x = Dense(128, activation='relu', kernel_regularizer='l2')(x)\n",
    "    x = BatchNormalization()(x)\n",
    "    x = Dropout(0.4)(x)\n",
    "    \n",
    "    x = Dense(64, activation='relu')(x)\n",
    "    x = BatchNormalization()(x)\n",
    "    x = Dropout(0.3)(x)\n",
    "\n",
    "    \n",
    "    outputs = Dense(nb_class, activation='softmax')(x)\n",
    "\n",
    "    return Model(inputs, outputs)"
   ]
  },
  {
   "cell_type": "markdown",
   "metadata": {
    "pycharm": {
     "name": "#%% md\n"
    }
   },
   "source": [
    "### 3D implementation of classification model (Two hyppocampus)\n",
    "- 2 parallel models in one model\n",
    "- compilation of the model using adam optimizer, and binary_crossentropy loss.- fiting the model using GPU if it exists."
   ]
  },
  {
   "cell_type": "code",
   "execution_count": 46,
   "metadata": {
    "execution": {
     "iopub.execute_input": "2021-12-09T15:33:42.226155Z",
     "iopub.status.busy": "2021-12-09T15:33:42.225877Z",
     "iopub.status.idle": "2021-12-09T15:33:42.239549Z",
     "shell.execute_reply": "2021-12-09T15:33:42.238571Z",
     "shell.execute_reply.started": "2021-12-09T15:33:42.226113Z"
    }
   },
   "outputs": [],
   "source": [
    "from tensorflow.keras.layers import Conv2D, SeparableConv2D, MaxPooling2D, UpSampling2D, Cropping2D, Conv3D, MaxPooling3D, UpSampling3D, Cropping3D, Input, Concatenate, Flatten, Dense, Dropout, BatchNormalization, Activation, BatchNormalization, GlobalAveragePooling2D, GlobalAveragePooling3D, add\n",
    "\n",
    "def intermediate_network(inputs, i, depth, padding='same'):\n",
    "    x = inputs[:,i,:,:,:,:]\n",
    "    \n",
    "    num_filters = 32\n",
    "    for i in range(depth):\n",
    "        x = Conv3D(filters=num_filters, kernel_size=(3,3,3), padding=padding)(x)\n",
    "        x = BatchNormalization()(x)\n",
    "        x = Activation('relu')(x)\n",
    "        x = Conv3D(filters=num_filters, kernel_size=(3,3,3), padding=padding)(x)\n",
    "        x = BatchNormalization()(x)\n",
    "        x = Activation('relu')(x)\n",
    "        if i != depth - 1:\n",
    "            x = MaxPooling3D(pool_size=(2,2,2), strides=2)(x)\n",
    "            num_filters *= 2\n",
    "    \n",
    "    x = Dropout(0.2)(x)\n",
    "    x = Flatten()(x)\n",
    "    return x\n",
    "\n",
    "def create_model_3D(input_size, depth=2, nb_class=2):\n",
    "    inputs = Input(shape=input_size)\n",
    "    nb_slices = 2\n",
    "    out_list = []\n",
    "    for i in range(nb_slices):\n",
    "        out_list.append(intermediate_network(inputs=inputs, i=i, depth=depth, padding='same'))\n",
    "\n",
    "    x = Concatenate()(out_list)\n",
    "    x = Flatten()(x)\n",
    "    # x = GlobalAveragePooling2D()(x)\n",
    "    x = Dense(512, activation='relu', kernel_regularizer='l2')(x)\n",
    "    x = BatchNormalization()(x)\n",
    "    x = Dropout(0.5)(x)\n",
    "    \n",
    "    \n",
    "    x = Dense(128, activation='relu', kernel_regularizer='l2')(x)\n",
    "    x = BatchNormalization()(x)\n",
    "    x = Dropout(0.5)(x)\n",
    "    \n",
    "    x = Dense(64, activation='relu')(x)\n",
    "    x = BatchNormalization()(x)\n",
    "    x = Dropout(0.5)(x)\n",
    "    \n",
    "    outputs = Dense(nb_class, activation='softmax')(x)\n",
    "    \n",
    "    return Model(inputs, outputs)"
   ]
  },
  {
   "cell_type": "markdown",
   "metadata": {
    "pycharm": {
     "name": "#%% md\n"
    }
   },
   "source": [
    "Run this to compile model of two hyppocamus"
   ]
  },
  {
   "cell_type": "code",
   "execution_count": null,
   "metadata": {},
   "outputs": [],
   "source": [
    "import tensorflow\n",
    "\n",
    "OPT    = tensorflow.keras.optimizers.Adam(learning_rate=0.0001)#0.0001\n",
    "\n",
    "model_3 = create_model_3D(X_data_3D[0].shape, depth=2, nb_class=2)\n",
    "model_3.compile(optimizer=OPT, loss='binary_crossentropy', metrics=['accuracy'])\n",
    "model_3.summary()\n",
    "\n"
   ]
  },
  {
   "cell_type": "markdown",
   "metadata": {
    "pycharm": {
     "name": "#%% md\n"
    }
   },
   "source": [
    "Run this to compile model of one hyppocampus"
   ]
  },
  {
   "cell_type": "code",
   "execution_count": 80,
   "metadata": {
    "execution": {
     "iopub.execute_input": "2021-12-09T15:51:43.455970Z",
     "iopub.status.busy": "2021-12-09T15:51:43.455707Z",
     "iopub.status.idle": "2021-12-09T15:51:43.613373Z",
     "shell.execute_reply": "2021-12-09T15:51:43.612634Z",
     "shell.execute_reply.started": "2021-12-09T15:51:43.455940Z"
    }
   },
   "outputs": [
    {
     "name": "stdout",
     "output_type": "stream",
     "text": [
      "Model: \"model_8\"\n",
      "_________________________________________________________________\n",
      "Layer (type)                 Output Shape              Param #   \n",
      "=================================================================\n",
      "input_10 (InputLayer)        [(None, 40, 40, 40, 1)]   0         \n",
      "_________________________________________________________________\n",
      "conv3d_32 (Conv3D)           (None, 38, 38, 38, 64)    1792      \n",
      "_________________________________________________________________\n",
      "batch_normalization_56 (Batc (None, 38, 38, 38, 64)    256       \n",
      "_________________________________________________________________\n",
      "activation_32 (Activation)   (None, 38, 38, 38, 64)    0         \n",
      "_________________________________________________________________\n",
      "conv3d_33 (Conv3D)           (None, 36, 36, 36, 64)    110656    \n",
      "_________________________________________________________________\n",
      "batch_normalization_57 (Batc (None, 36, 36, 36, 64)    256       \n",
      "_________________________________________________________________\n",
      "activation_33 (Activation)   (None, 36, 36, 36, 64)    0         \n",
      "_________________________________________________________________\n",
      "max_pooling3d_8 (MaxPooling3 (None, 18, 18, 18, 64)    0         \n",
      "_________________________________________________________________\n",
      "dropout_40 (Dropout)         (None, 18, 18, 18, 64)    0         \n",
      "_________________________________________________________________\n",
      "conv3d_34 (Conv3D)           (None, 16, 16, 16, 128)   221312    \n",
      "_________________________________________________________________\n",
      "batch_normalization_58 (Batc (None, 16, 16, 16, 128)   512       \n",
      "_________________________________________________________________\n",
      "activation_34 (Activation)   (None, 16, 16, 16, 128)   0         \n",
      "_________________________________________________________________\n",
      "conv3d_35 (Conv3D)           (None, 14, 14, 14, 128)   442496    \n",
      "_________________________________________________________________\n",
      "batch_normalization_59 (Batc (None, 14, 14, 14, 128)   512       \n",
      "_________________________________________________________________\n",
      "activation_35 (Activation)   (None, 14, 14, 14, 128)   0         \n",
      "_________________________________________________________________\n",
      "dropout_41 (Dropout)         (None, 14, 14, 14, 128)   0         \n",
      "_________________________________________________________________\n",
      "flatten_8 (Flatten)          (None, 351232)            0         \n",
      "_________________________________________________________________\n",
      "dense_32 (Dense)             (None, 512)               179831296 \n",
      "_________________________________________________________________\n",
      "batch_normalization_60 (Batc (None, 512)               2048      \n",
      "_________________________________________________________________\n",
      "dropout_42 (Dropout)         (None, 512)               0         \n",
      "_________________________________________________________________\n",
      "dense_33 (Dense)             (None, 128)               65664     \n",
      "_________________________________________________________________\n",
      "batch_normalization_61 (Batc (None, 128)               512       \n",
      "_________________________________________________________________\n",
      "dropout_43 (Dropout)         (None, 128)               0         \n",
      "_________________________________________________________________\n",
      "dense_34 (Dense)             (None, 64)                8256      \n",
      "_________________________________________________________________\n",
      "batch_normalization_62 (Batc (None, 64)                256       \n",
      "_________________________________________________________________\n",
      "dropout_44 (Dropout)         (None, 64)                0         \n",
      "_________________________________________________________________\n",
      "dense_35 (Dense)             (None, 2)                 130       \n",
      "=================================================================\n",
      "Total params: 180,685,954\n",
      "Trainable params: 180,683,778\n",
      "Non-trainable params: 2,176\n",
      "_________________________________________________________________\n"
     ]
    }
   ],
   "source": [
    "import tensorflow\n",
    "\n",
    "OPT    = tensorflow.keras.optimizers.Adam(learning_rate=0.0001)#0.0001\n",
    "\n",
    "model_3 = create_Unet_model3D_encoder(X_data_3D[0].shape, depth=2)\n",
    "model_3.compile(optimizer=OPT, loss='binary_crossentropy', metrics=['accuracy'])\n",
    "model_3.summary()\n"
   ]
  },
  {
   "cell_type": "markdown",
   "metadata": {
    "pycharm": {
     "name": "#%% md\n"
    }
   },
   "source": [
    "Splitting the data"
   ]
  },
  {
   "cell_type": "code",
   "execution_count": 66,
   "metadata": {
    "execution": {
     "iopub.execute_input": "2021-12-09T15:43:05.346056Z",
     "iopub.status.busy": "2021-12-09T15:43:05.345799Z",
     "iopub.status.idle": "2021-12-09T15:43:05.420242Z",
     "shell.execute_reply": "2021-12-09T15:43:05.419424Z",
     "shell.execute_reply.started": "2021-12-09T15:43:05.346026Z"
    }
   },
   "outputs": [
    {
     "name": "stdout",
     "output_type": "stream",
     "text": [
      "Data splited\n"
     ]
    }
   ],
   "source": [
    "from sklearn.model_selection import train_test_split\n",
    "\n",
    "X_train_3D, X_val_3D, Y_train_3D, Y_val_3D = train_test_split(X_data_3D, Y_data_3D, test_size=0.2,random_state=32)\n",
    "print(\"Data splited\")"
   ]
  },
  {
   "cell_type": "code",
   "execution_count": 81,
   "metadata": {
    "execution": {
     "iopub.execute_input": "2021-12-09T15:51:50.401886Z",
     "iopub.status.busy": "2021-12-09T15:51:50.401628Z",
     "iopub.status.idle": "2021-12-09T15:52:47.465906Z",
     "shell.execute_reply": "2021-12-09T15:52:47.465130Z",
     "shell.execute_reply.started": "2021-12-09T15:51:50.401856Z"
    }
   },
   "outputs": [
    {
     "name": "stdout",
     "output_type": "stream",
     "text": [
      "Epoch 1/12\n",
      "21/21 [==============================] - 9s 244ms/step - loss: 12.2414 - accuracy: 0.5572 - val_loss: 20.7306 - val_accuracy: 0.4699\n",
      "Epoch 2/12\n",
      "21/21 [==============================] - 5s 230ms/step - loss: 11.3094 - accuracy: 0.6687 - val_loss: 17.8091 - val_accuracy: 0.4699\n",
      "Epoch 3/12\n",
      "21/21 [==============================] - 5s 231ms/step - loss: 10.8319 - accuracy: 0.6837 - val_loss: 13.2783 - val_accuracy: 0.4699\n",
      "Epoch 4/12\n",
      "21/21 [==============================] - 5s 230ms/step - loss: 10.4116 - accuracy: 0.7530 - val_loss: 10.7840 - val_accuracy: 0.4699\n",
      "Epoch 5/12\n",
      "21/21 [==============================] - 5s 230ms/step - loss: 10.1509 - accuracy: 0.7470 - val_loss: 9.9862 - val_accuracy: 0.6386\n",
      "Epoch 6/12\n",
      "21/21 [==============================] - 5s 231ms/step - loss: 9.8809 - accuracy: 0.7470 - val_loss: 9.7408 - val_accuracy: 0.6867\n",
      "Epoch 7/12\n",
      "21/21 [==============================] - 5s 230ms/step - loss: 9.6240 - accuracy: 0.7922 - val_loss: 9.6440 - val_accuracy: 0.6747\n",
      "Epoch 8/12\n",
      "21/21 [==============================] - 5s 232ms/step - loss: 9.4402 - accuracy: 0.7952 - val_loss: 9.4771 - val_accuracy: 0.6747\n",
      "Epoch 9/12\n",
      "21/21 [==============================] - 5s 230ms/step - loss: 9.3188 - accuracy: 0.7771 - val_loss: 9.2989 - val_accuracy: 0.6988\n",
      "Epoch 10/12\n",
      "21/21 [==============================] - 5s 230ms/step - loss: 9.1633 - accuracy: 0.7801 - val_loss: 9.1086 - val_accuracy: 0.7229\n",
      "Epoch 11/12\n",
      "21/21 [==============================] - 5s 230ms/step - loss: 9.0165 - accuracy: 0.8133 - val_loss: 9.0513 - val_accuracy: 0.7349\n",
      "Epoch 00011: early stopping\n"
     ]
    }
   ],
   "source": [
    "from keras.callbacks import EarlyStopping\n",
    "\n",
    "es = EarlyStopping(monitor='val_accuracy', mode='min', verbose=1, patience=10)\n",
    "history = model_3.fit(np.asarray(X_train_3D), np.asarray(Y_train_3D), epochs= 12, batch_size=16, validation_data=(X_val_3D, Y_val_3D), callbacks=[es])"
   ]
  },
  {
   "cell_type": "code",
   "execution_count": 82,
   "metadata": {
    "execution": {
     "iopub.execute_input": "2021-12-09T15:53:09.303726Z",
     "iopub.status.busy": "2021-12-09T15:53:09.303448Z",
     "iopub.status.idle": "2021-12-09T15:53:14.646668Z",
     "shell.execute_reply": "2021-12-09T15:53:14.645869Z",
     "shell.execute_reply.started": "2021-12-09T15:53:09.303695Z"
    }
   },
   "outputs": [
    {
     "data": {
      "image/png": "[encoded data removed]",
      "text/plain": [
       "<Figure size 432x288 with 1 Axes>"
      ]
     },
     "metadata": {
      "needs_background": "light"
     },
     "output_type": "display_data"
    },
    {
     "data": {
      "image/png": "[encoded data removed]",
      "text/plain": [
       "<Figure size 432x288 with 1 Axes>"
      ]
     },
     "metadata": {
      "needs_background": "light"
     },
     "output_type": "display_data"
    }
   ],
   "source": [
    "plot_loss_curves(history)"
   ]
  }
 ],
 "metadata": {
  "kernelspec": {
   "display_name": "Python 3",
   "language": "python",
   "name": "python3"
  },
  "language_info": {
   "codemirror_mode": {
    "name": "ipython",
    "version": 3
   },
   "file_extension": ".py",
   "mimetype": "text/x-python",
   "name": "python",
   "nbconvert_exporter": "python",
   "pygments_lexer": "ipython3",
   "version": "3.9.5"
  }
 },
 "nbformat": 4,
 "nbformat_minor": 4
}
