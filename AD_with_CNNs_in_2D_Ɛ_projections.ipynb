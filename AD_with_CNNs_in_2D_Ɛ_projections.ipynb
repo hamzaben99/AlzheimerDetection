{
 "cells": [
  {
   "cell_type": "code",
   "execution_count": 1,
   "id": "a09fd674",
   "metadata": {
    "execution": {
     "iopub.execute_input": "2021-12-10T23:44:23.844693Z",
     "iopub.status.busy": "2021-12-10T23:44:23.843180Z",
     "iopub.status.idle": "2021-12-10T23:44:24.129229Z",
     "shell.execute_reply": "2021-12-10T23:44:24.128621Z",
     "shell.execute_reply.started": "2021-12-10T21:06:03.659571Z"
    },
    "papermill": {
     "duration": 0.305373,
     "end_time": "2021-12-10T23:44:24.129387",
     "exception": false,
     "start_time": "2021-12-10T23:44:23.824014",
     "status": "completed"
    },
    "tags": []
   },
   "outputs": [
    {
     "name": "stdout",
     "output_type": "stream",
     "text": [
      "/kaggle/working\n"
     ]
    }
   ],
   "source": [
    "import os\n",
    "import numpy as np\n",
    "from nibabel.testing import data_path\n",
    "import nibabel as nib\n",
    "from pathlib import Path\n",
    "\n",
    "path = str(Path().resolve())\n",
    "print(path)\n",
    "path = path + \"\\\\ADNI_PROCESSED\"\n",
    "\n",
    "# For kaggle:\n",
    "path = \"../input/adni-data/ADNI_PROCESSED\"\n",
    "\n",
    "def apply_mask(img_n_mmni, img_mask):\n",
    "    \"\"\"\n",
    "        Taking a n_mmni and apply the correspondant mask\n",
    "        param:\n",
    "            img_n_mmi   : image n_mmi\n",
    "            img_mask    : mask\n",
    "    \"\"\"\n",
    "    mmni_m = img_n_mmni.get_fdata()\n",
    "    mask_m = img_mask.get_fdata().astype(bool)\n",
    "    mask_bg = np.logical_not(mask_m)\n",
    "    mmni_m[mask_bg] = 0\n",
    "    return mmni_m\n",
    "\n",
    "def process_irm_data():\n",
    "    \"\"\"\n",
    "        Create a new directory and process all images from tha ADNI1 directory\n",
    "    \"\"\"\n",
    "    path = str(Path().resolve())\n",
    "    path_res = path + \"\\\\ADNI_PROCESSED\"\n",
    "    Path(path_res).mkdir(parents=True, exist_ok=True) # Create a directory for data processed\n",
    "    path = path + \"\\\\ADNI1\"\n",
    "    for filename in os.listdir(path):\n",
    "        if filename.startswith(\"n_mmni\"):\n",
    "            n_mmni_filename = os.path.join(path, filename)\n",
    "            mask_filename = os.path.join(path, \"mask_\" + filename)\n",
    "            img_n_mmni = nib.load(n_mmni_filename)\n",
    "            img_mask = nib.load(mask_filename)\n",
    "            n_mmni_mask = apply_mask(img_n_mmni, img_mask)\n",
    "            img = nib.Nifti1Image(n_mmni_mask, np.eye(4))\n",
    "            nib.save(img, os.path.join(path_res, filename))"
   ]
  },
  {
   "cell_type": "code",
   "execution_count": 2,
   "id": "52f9fd84",
   "metadata": {
    "execution": {
     "iopub.execute_input": "2021-12-10T23:44:24.169049Z",
     "iopub.status.busy": "2021-12-10T23:44:24.168245Z",
     "iopub.status.idle": "2021-12-10T23:44:24.170702Z",
     "shell.execute_reply": "2021-12-10T23:44:24.170300Z",
     "shell.execute_reply.started": "2021-12-10T21:06:03.972516Z"
    },
    "papermill": {
     "duration": 0.027328,
     "end_time": "2021-12-10T23:44:24.170809",
     "exception": false,
     "start_time": "2021-12-10T23:44:24.143481",
     "status": "completed"
    },
    "tags": []
   },
   "outputs": [],
   "source": [
    "def cut_2D_i(img_n_mmni, axe, idx):\n",
    "    \"\"\"\n",
    "        Function that returns a 2D cut from the \"img\" in the index \"idx\", along the axe given in parameter\n",
    "    \"\"\"\n",
    "    axe_dim = {\"x\": img_n_mmni.shape[0], \"y\": img_n_mmni.shape[1], \"z\":img_n_mmni.shape[2]}\n",
    "    if axe_dim[axe] <= idx or idx < 0:\n",
    "        print(\"Invalid value for index must be between 0 and \" , axe_dim[axe])\n",
    "        return\n",
    "    if axe == \"x\":\n",
    "        cropped_img = img_n_mmni.slicer[idx:idx+1, 90:130, 40:80]\n",
    "        img_data = cropped_img.get_fdata()\n",
    "        img_data = np.transpose(img_data, (2, 1, 0)) / 255.0\n",
    "        img_data = np.transpose(img_data, (1, 0, 2))\n",
    "    elif axe == \"y\":\n",
    "        cropped_img = img_n_mmni.slicer[100:140, idx:idx+1,40:80]\n",
    "        img_data = cropped_img.get_fdata()\n",
    "        img_data = np.transpose(img_data, (0, 2, 1)) / 255.0\n",
    "    elif axe == \"z\":\n",
    "        cropped_img = img_n_mmni.slicer[100:140, 90:130, idx:idx+1]\n",
    "        img_data = cropped_img.get_fdata()\n",
    "    else:\n",
    "        print(\"Choose a valid value for axe: x, y or z\")\n",
    "\n",
    "    return img_data\n",
    "\n",
    "def custom_patch_3D(img_n_mmni, x_tup, y_tup, z_tup):\n",
    "    axe_dim = {\"x\": img_n_mmni.shape[0], \"y\": img_n_mmni.shape[1], \"z\":img_n_mmni.shape[2]}\n",
    "    if axe_dim[\"x\"] <= x_tup[1] or x_tup[0] < 0 or axe_dim[\"y\"] <= y_tup[1] or y_tup[0] < 0 or axe_dim[\"z\"] <= z_tup[1] or z_tup[0] < 0 :\n",
    "        print(\"Invalid values\")\n",
    "        return \n",
    "    else:\n",
    "        cropped_img = img_n_mmni.slicer[x_tup[0]:x_tup[1], y_tup[0]:y_tup[1], z_tup[0]:z_tup[1]]\n",
    "        img_data = cropped_img.get_fdata() / 255\n",
    "        return img_data"
   ]
  },
  {
   "cell_type": "code",
   "execution_count": 3,
   "id": "eb45b51c",
   "metadata": {
    "execution": {
     "iopub.execute_input": "2021-12-10T23:44:24.204584Z",
     "iopub.status.busy": "2021-12-10T23:44:24.203806Z",
     "iopub.status.idle": "2021-12-10T23:44:24.946535Z",
     "shell.execute_reply": "2021-12-10T23:44:24.946035Z",
     "shell.execute_reply.started": "2021-12-10T21:06:03.987126Z"
    },
    "papermill": {
     "duration": 0.76277,
     "end_time": "2021-12-10T23:44:24.946660",
     "exception": false,
     "start_time": "2021-12-10T23:44:24.183890",
     "status": "completed"
    },
    "tags": []
   },
   "outputs": [
    {
     "data": {
      "text/html": [
       "<div>\n",
       "<style scoped>\n",
       "    .dataframe tbody tr th:only-of-type {\n",
       "        vertical-align: middle;\n",
       "    }\n",
       "\n",
       "    .dataframe tbody tr th {\n",
       "        vertical-align: top;\n",
       "    }\n",
       "\n",
       "    .dataframe thead th {\n",
       "        text-align: right;\n",
       "    }\n",
       "</style>\n",
       "<table border=\"1\" class=\"dataframe\">\n",
       "  <thead>\n",
       "    <tr style=\"text-align: right;\">\n",
       "      <th></th>\n",
       "      <th>Rooster ID</th>\n",
       "      <th>Group</th>\n",
       "    </tr>\n",
       "    <tr>\n",
       "      <th>Subject ID</th>\n",
       "      <th></th>\n",
       "      <th></th>\n",
       "    </tr>\n",
       "  </thead>\n",
       "  <tbody>\n",
       "    <tr>\n",
       "      <th>002_S_0295</th>\n",
       "      <td>295</td>\n",
       "      <td>CN</td>\n",
       "    </tr>\n",
       "    <tr>\n",
       "      <th>002_S_0413</th>\n",
       "      <td>413</td>\n",
       "      <td>CN</td>\n",
       "    </tr>\n",
       "    <tr>\n",
       "      <th>002_S_0559</th>\n",
       "      <td>559</td>\n",
       "      <td>CN</td>\n",
       "    </tr>\n",
       "    <tr>\n",
       "      <th>002_S_0619</th>\n",
       "      <td>619</td>\n",
       "      <td>AD</td>\n",
       "    </tr>\n",
       "    <tr>\n",
       "      <th>002_S_0685</th>\n",
       "      <td>685</td>\n",
       "      <td>CN</td>\n",
       "    </tr>\n",
       "    <tr>\n",
       "      <th>002_S_0816</th>\n",
       "      <td>816</td>\n",
       "      <td>AD</td>\n",
       "    </tr>\n",
       "    <tr>\n",
       "      <th>002_S_0938</th>\n",
       "      <td>938</td>\n",
       "      <td>AD</td>\n",
       "    </tr>\n",
       "  </tbody>\n",
       "</table>\n",
       "</div>"
      ],
      "text/plain": [
       "            Rooster ID Group\n",
       "Subject ID                  \n",
       "002_S_0295         295    CN\n",
       "002_S_0413         413    CN\n",
       "002_S_0559         559    CN\n",
       "002_S_0619         619    AD\n",
       "002_S_0685         685    CN\n",
       "002_S_0816         816    AD\n",
       "002_S_0938         938    AD"
      ]
     },
     "execution_count": 3,
     "metadata": {},
     "output_type": "execute_result"
    }
   ],
   "source": [
    "import os\n",
    "import re\n",
    "from pathlib import Path\n",
    "import pandas as pd\n",
    "from sklearn.preprocessing import OrdinalEncoder\n",
    "from sklearn.model_selection import train_test_split\n",
    "\n",
    "def load_data(path):\n",
    "    data = pd.read_csv(path, names= ['Subject ID', 'Rooster ID', 'Age', 'Sexe', 'Group', 'Conversion', 'MMSE', 'RAVLT', 'FAQ', 'CDR-SB', 'ADAS11'], usecols = ['Subject ID', 'Rooster ID', 'Group'])\n",
    "    data.index = data['Subject ID']\n",
    "    data = data.drop(['Subject ID'], axis=1)\n",
    "    data = data[(data.Group == 'CN') | (data.Group == 'AD')]\n",
    "    return data\n",
    "\n",
    "path = str(Path().resolve())\n",
    "path = \"../input/adni-data/list_standardized_tongtong_2017.csv\"\n",
    "y_data = load_data(path)\n",
    "y_data.head(7)"
   ]
  },
  {
   "cell_type": "code",
   "execution_count": 4,
   "id": "507abff3",
   "metadata": {
    "execution": {
     "iopub.execute_input": "2021-12-10T23:44:25.084365Z",
     "iopub.status.busy": "2021-12-10T23:44:25.083657Z",
     "iopub.status.idle": "2021-12-10T23:45:32.886998Z",
     "shell.execute_reply": "2021-12-10T23:45:32.887649Z",
     "shell.execute_reply.started": "2021-12-10T21:06:06.044015Z"
    },
    "papermill": {
     "duration": 67.927987,
     "end_time": "2021-12-10T23:45:32.887846",
     "exception": false,
     "start_time": "2021-12-10T23:44:24.959859",
     "status": "completed"
    },
    "tags": []
   },
   "outputs": [
    {
     "name": "stdout",
     "output_type": "stream",
     "text": [
      "True\n",
      "830\n"
     ]
    }
   ],
   "source": [
    "from tensorflow.keras.utils import to_categorical\n",
    "\n",
    "usecols = ['Subject ID', 'Rooster ID', 'Group']\n",
    "# ['CN', 'AD']\n",
    "def prepare_X_of_Y(Y):\n",
    "    X_data = []\n",
    "    Y_data = []\n",
    "    X_test_index = []\n",
    "    X_data_index = []\n",
    "    X_hypo = [] # 0 for left, 1 for right\n",
    "    Y_test = []\n",
    "    path = \"../input/adni-data/ADNI_PROCESSED\"\n",
    "    n_test_AD = 0\n",
    "    n_test_CN = 0\n",
    "    for index, row in Y.iterrows():\n",
    "        file = path + '/n_mmni_fADNI_' + index + '_1.5T_t1w.nii'\n",
    "        if os.path.isfile(file):\n",
    "            img_n_mmni = nib.load(file)\n",
    "            # Taking 4 images for test purpose\n",
    "            if (Y['Group'][index] == 'AD' and n_test_AD < 2) or (Y['Group'][index] == 'CN' and n_test_CN < 2):\n",
    "                n_test_AD += 1 if Y['Group'][index] == 'AD' else n_test_AD\n",
    "                n_test_CN += 1 if Y['Group'][index] == 'CN' else n_test_CN\n",
    "                X_test_index.append(index)\n",
    "            else:\n",
    "                img_on_three_axes = []\n",
    "                \n",
    "                img_data = custom_patch_3D(img_n_mmni, x_tup=(59,62), y_tup=(90,130), z_tup=(40,80))\n",
    "                img_data = np.transpose(img_data, (1, 2, 0))\n",
    "                img_on_three_axes.append(img_data)\n",
    "                \n",
    "                img_data = custom_patch_3D(img_n_mmni, x_tup=(40,80), y_tup=(109,112), z_tup=(40,80))\n",
    "                img_data = np.transpose(img_data, (0, 2, 1))\n",
    "                img_on_three_axes.append(img_data)\n",
    "                \n",
    "                img_data = custom_patch_3D(img_n_mmni, x_tup=(40,80), y_tup=(90,130), z_tup=(59,62))\n",
    "                img_on_three_axes.append(img_data)\n",
    "                \n",
    "                img_on_three_axes = np.array(img_on_three_axes)\n",
    "                X_data.append(img_on_three_axes)\n",
    "                X_data_index.append(index)\n",
    "                X_hypo.append(1)\n",
    "                \n",
    "                img_on_three_axes = []\n",
    "                \n",
    "                img_data = custom_patch_3D(img_n_mmni, x_tup=(119,122), y_tup=(90,130), z_tup=(40,80))\n",
    "                img_data = img_data[::-1,:,:]\n",
    "                img_data = np.transpose(img_data, (1, 2, 0))\n",
    "                img_on_three_axes.append(img_data)\n",
    "                \n",
    "                img_data = custom_patch_3D(img_n_mmni, x_tup=(100,140), y_tup=(109,112), z_tup=(40,80))\n",
    "                img_data = np.transpose(img_data, (0, 2, 1))\n",
    "                img_data = img_data[::-1,:,:]\n",
    "                img_on_three_axes.append(img_data)\n",
    "                \n",
    "                img_data = custom_patch_3D(img_n_mmni, x_tup=(100,140), y_tup=(90,130), z_tup=(59,62))\n",
    "                img_data = img_data[::-1,:,:]\n",
    "                img_on_three_axes.append(img_data)\n",
    "                \n",
    "                img_on_three_axes = np.array(img_on_three_axes)\n",
    "                X_data.append(img_on_three_axes)\n",
    "                X_data_index.append(index)\n",
    "                X_hypo.append(0)\n",
    "                \n",
    "                if Y['Group'][index] == 'AD':\n",
    "                    Y_data.append(1)\n",
    "                    Y_data.append(1)\n",
    "                elif Y['Group'][index] == 'CN':\n",
    "                    Y_data.append(0)\n",
    "                    Y_data.append(0)\n",
    "        else:\n",
    "            Y.drop(index, inplace=True)\n",
    "    return np.array(X_data), Y_data, X_test_index, X_data_index, X_hypo\n",
    "\n",
    "#if os.path.isfile('X_data.npy') and os.path.isfile('Y_data.npy') and os.path.isfile('X_test_index.npy'):\n",
    "#    X_data = np.load('X_data.npy')\n",
    "#    Y_data = np.load('Y_data.npy')\n",
    "#    X_test_index = np.load('X_test_index.npy')\n",
    "#else:\n",
    "X_data, Y_data_list, X_test_index, X_data_index, X_hypo = prepare_X_of_Y(y_data)\n",
    "Y_data = to_categorical(Y_data_list, num_classes=2)\n",
    "#np.save('X_data', X_data)\n",
    "#np.save('Y_data', Y_data)\n",
    "#np.save('X_test_index', X_test_index)\n",
    "\n",
    "print(len(X_data) == len(Y_data))\n",
    "print(len(X_data))"
   ]
  },
  {
   "cell_type": "code",
   "execution_count": 5,
   "id": "8c7b4a07",
   "metadata": {
    "execution": {
     "iopub.execute_input": "2021-12-10T23:45:32.923813Z",
     "iopub.status.busy": "2021-12-10T23:45:32.922660Z",
     "iopub.status.idle": "2021-12-10T23:45:32.956560Z",
     "shell.execute_reply": "2021-12-10T23:45:32.956973Z",
     "shell.execute_reply.started": "2021-12-10T21:07:09.861453Z"
    },
    "papermill": {
     "duration": 0.054948,
     "end_time": "2021-12-10T23:45:32.957154",
     "exception": false,
     "start_time": "2021-12-10T23:45:32.902206",
     "status": "completed"
    },
    "tags": []
   },
   "outputs": [
    {
     "name": "stdout",
     "output_type": "stream",
     "text": [
      "Data splited\n",
      "664\n"
     ]
    }
   ],
   "source": [
    "from sklearn.model_selection import train_test_split\n",
    "\n",
    "X_train, X_test, Y_train, Y_test, X_train_index, X_test_index, X_hypo_train, X_hypo_test = train_test_split(X_data, Y_data, X_data_index, X_hypo, random_state=42, test_size=0.2)\n",
    "#X_train, X_val, Y_train, Y_val, X_train_index, X_val_index = train_test_split(X_train, Y_train, X_train_index, random_state=42, test_size=0.2)\n",
    "\n",
    "print(\"Data splited\")\n",
    "print(len(X_train))"
   ]
  },
  {
   "cell_type": "code",
   "execution_count": 6,
   "id": "1615eb97",
   "metadata": {
    "execution": {
     "iopub.execute_input": "2021-12-10T23:45:32.989861Z",
     "iopub.status.busy": "2021-12-10T23:45:32.989259Z",
     "iopub.status.idle": "2021-12-10T23:45:33.340250Z",
     "shell.execute_reply": "2021-12-10T23:45:33.339765Z",
     "shell.execute_reply.started": "2021-12-10T21:07:09.904770Z"
    },
    "papermill": {
     "duration": 0.369301,
     "end_time": "2021-12-10T23:45:33.340378",
     "exception": false,
     "start_time": "2021-12-10T23:45:32.971077",
     "status": "completed"
    },
    "tags": []
   },
   "outputs": [
    {
     "name": "stdout",
     "output_type": "stream",
     "text": [
      "{0: 'CN', 1: 'AD'}\n"
     ]
    },
    {
     "name": "stderr",
     "output_type": "stream",
     "text": [
      "/opt/conda/lib/python3.7/site-packages/seaborn/_decorators.py:43: FutureWarning: Pass the following variable as a keyword arg: x. From version 0.12, the only valid positional argument will be `data`, and passing other arguments without an explicit keyword will result in an error or misinterpretation.\n",
      "  FutureWarning\n"
     ]
    },
    {
     "data": {
      "image/png": "[encoded data removed]",
      "text/plain": [
       "<Figure size 432x288 with 1 Axes>"
      ]
     },
     "metadata": {
      "needs_background": "light"
     },
     "output_type": "display_data"
    }
   ],
   "source": [
    "map_characters = {0: 'CN', 1: 'AD'}\n",
    "dict_characters=map_characters\n",
    "import seaborn as sns\n",
    "df = pd.DataFrame()\n",
    "df[\"labels\"] = Y_train[:,1]\n",
    "lab = df['labels']\n",
    "dist = lab.value_counts()\n",
    "sns.countplot(lab)\n",
    "print(dict_characters)"
   ]
  },
  {
   "cell_type": "code",
   "execution_count": 7,
   "id": "55d493b3",
   "metadata": {
    "execution": {
     "iopub.execute_input": "2021-12-10T23:45:33.383964Z",
     "iopub.status.busy": "2021-12-10T23:45:33.382971Z",
     "iopub.status.idle": "2021-12-10T23:46:24.464144Z",
     "shell.execute_reply": "2021-12-10T23:46:24.463611Z",
     "shell.execute_reply.started": "2021-12-10T21:07:10.208590Z"
    },
    "papermill": {
     "duration": 51.108815,
     "end_time": "2021-12-10T23:46:24.464303",
     "exception": false,
     "start_time": "2021-12-10T23:45:33.355488",
     "status": "completed"
    },
    "tags": []
   },
   "outputs": [],
   "source": [
    "def data_augmentation(X_train, Y_train, X_train_index, X_hypo):\n",
    "    new_X = []\n",
    "    new_Y = []\n",
    "    path = \"../input/adni-data/ADNI_PROCESSED\"\n",
    "    for j in range(len(X_train_index)):\n",
    "        file = path + '/n_mmni_fADNI_' + X_train_index[j] + '_1.5T_t1w.nii'\n",
    "        new_X.append(X_train[j])\n",
    "        new_Y.append(Y_train[j])\n",
    "        if os.path.isfile(file):\n",
    "            img_n_mmni = nib.load(file)\n",
    "            if X_hypo[j]:\n",
    "                x = (100,140); x_slice = (119,122)\n",
    "            else:\n",
    "                x = (40,80); x_slice = (59,62)\n",
    "            for i in range(-3, 4):\n",
    "                if i != 0:\n",
    "                    img_on_three_axes = []\n",
    "                    \n",
    "                    img_data = custom_patch_3D(img_n_mmni, x_tup=(x_slice[0]+i,x_slice[1]+i), y_tup=(90+i,130+i), z_tup=(40+i,80+i))\n",
    "                    img_data = img_data[::-1,:,:]\n",
    "                    img_data = np.transpose(img_data, (1, 2, 0))\n",
    "                    img_on_three_axes.append(img_data)\n",
    "\n",
    "                    img_data = custom_patch_3D(img_n_mmni, x_tup=(x[0]+i, x[1]+i), y_tup=(109+i,112+i), z_tup=(40+i,80+i))\n",
    "                    img_data = np.transpose(img_data, (0, 2, 1))\n",
    "                    img_data = img_data[::-1,:,:]\n",
    "                    img_on_three_axes.append(img_data)\n",
    "\n",
    "                    img_data = custom_patch_3D(img_n_mmni, x_tup=(x[0]+i, x[1]+i), y_tup=(90+i,130+i), z_tup=(59+i,62+i))\n",
    "                    img_on_three_axes.append(img_data)\n",
    "                    img_data = img_data[::-1,:,:]\n",
    "                    img_on_three_axes = np.array(img_on_three_axes)\n",
    "                        \n",
    "                    new_X.append(img_on_three_axes)\n",
    "                    new_Y.append(Y_train[j])\n",
    "                        \n",
    "    return np.array(new_X), np.array(new_Y)\n",
    "X_train, Y_train = data_augmentation(X_train, Y_train, X_train_index, X_hypo_train)"
   ]
  },
  {
   "cell_type": "code",
   "execution_count": 8,
   "id": "5748c708",
   "metadata": {
    "execution": {
     "iopub.execute_input": "2021-12-10T23:46:24.502775Z",
     "iopub.status.busy": "2021-12-10T23:46:24.501527Z",
     "iopub.status.idle": "2021-12-10T23:46:24.665659Z",
     "shell.execute_reply": "2021-12-10T23:46:24.666095Z",
     "shell.execute_reply.started": "2021-12-10T21:08:02.364740Z"
    },
    "papermill": {
     "duration": 0.186288,
     "end_time": "2021-12-10T23:46:24.666270",
     "exception": false,
     "start_time": "2021-12-10T23:46:24.479982",
     "status": "completed"
    },
    "tags": []
   },
   "outputs": [
    {
     "name": "stdout",
     "output_type": "stream",
     "text": [
      "Data splited\n",
      "3718\n"
     ]
    }
   ],
   "source": [
    "from sklearn.model_selection import train_test_split\n",
    "\n",
    "X_train, X_val, Y_train, Y_val = train_test_split(X_train, Y_train, random_state=42, test_size=0.2)\n",
    "\n",
    "print(\"Data splited\")\n",
    "print(len(X_train))"
   ]
  },
  {
   "cell_type": "code",
   "execution_count": 9,
   "id": "481397f1",
   "metadata": {
    "execution": {
     "iopub.execute_input": "2021-12-10T23:46:24.706532Z",
     "iopub.status.busy": "2021-12-10T23:46:24.704452Z",
     "iopub.status.idle": "2021-12-10T23:46:24.887854Z",
     "shell.execute_reply": "2021-12-10T23:46:24.888413Z",
     "shell.execute_reply.started": "2021-12-10T21:08:02.523421Z"
    },
    "papermill": {
     "duration": 0.206855,
     "end_time": "2021-12-10T23:46:24.888588",
     "exception": false,
     "start_time": "2021-12-10T23:46:24.681733",
     "status": "completed"
    },
    "tags": []
   },
   "outputs": [
    {
     "name": "stdout",
     "output_type": "stream",
     "text": [
      "{0: 'CN', 1: 'AD'}\n"
     ]
    },
    {
     "name": "stderr",
     "output_type": "stream",
     "text": [
      "/opt/conda/lib/python3.7/site-packages/seaborn/_decorators.py:43: FutureWarning: Pass the following variable as a keyword arg: x. From version 0.12, the only valid positional argument will be `data`, and passing other arguments without an explicit keyword will result in an error or misinterpretation.\n",
      "  FutureWarning\n"
     ]
    },
    {
     "data": {
      "image/png": "[encoded data removed]",
      "text/plain": [
       "<Figure size 432x288 with 1 Axes>"
      ]
     },
     "metadata": {
      "needs_background": "light"
     },
     "output_type": "display_data"
    }
   ],
   "source": [
    "map_characters = {0: 'CN', 1: 'AD'}\n",
    "dict_characters=map_characters\n",
    "import seaborn as sns\n",
    "df = pd.DataFrame()\n",
    "df[\"labels\"] = Y_train[:,1]\n",
    "lab = df['labels']\n",
    "dist = lab.value_counts()\n",
    "sns.countplot(lab)\n",
    "print(dict_characters)"
   ]
  },
  {
   "cell_type": "code",
   "execution_count": 10,
   "id": "f1ae5196",
   "metadata": {
    "execution": {
     "iopub.execute_input": "2021-12-10T23:46:24.933076Z",
     "iopub.status.busy": "2021-12-10T23:46:24.932052Z",
     "iopub.status.idle": "2021-12-10T23:46:24.937215Z",
     "shell.execute_reply": "2021-12-10T23:46:24.936369Z",
     "shell.execute_reply.started": "2021-12-10T21:08:02.702689Z"
    },
    "papermill": {
     "duration": 0.032646,
     "end_time": "2021-12-10T23:46:24.937341",
     "exception": false,
     "start_time": "2021-12-10T23:46:24.904695",
     "status": "completed"
    },
    "tags": []
   },
   "outputs": [],
   "source": [
    "from tensorflow.keras.layers import Conv2D, SeparableConv2D, MaxPooling2D, UpSampling2D, Cropping2D, Conv3D, MaxPooling3D, UpSampling3D, Cropping3D, Input, Concatenate, Flatten, Dense, Dropout, BatchNormalization, Activation, BatchNormalization, GlobalAveragePooling2D, GlobalAveragePooling3D, add\n",
    "from tensorflow.keras.models import Model\n",
    "from tensorflow.keras.regularizers import l2\n",
    "\n",
    "def intermediate_network(inputs, i, depth, padding='same'):\n",
    "    x = inputs[:,i,:,:]\n",
    "    \n",
    "    num_filters = 32\n",
    "    for i in range(depth):\n",
    "        x = SeparableConv2D(filters=num_filters, kernel_size=(3,3), padding=padding)(x)\n",
    "        x = BatchNormalization()(x)\n",
    "        x = Activation('relu')(x)\n",
    "        \n",
    "        x = SeparableConv2D(filters=num_filters, kernel_size=(3,3), padding=padding)(x)\n",
    "        x = BatchNormalization()(x)\n",
    "        x = Activation('relu')(x)\n",
    "        if i != depth - 1:\n",
    "            x = MaxPooling2D(pool_size=(2,2), strides=2)(x)\n",
    "            num_filters *= 2\n",
    "    \n",
    "    x = Dropout(0.2)(x)\n",
    "    x = Flatten()(x)\n",
    "    return x\n",
    "\n",
    "def create_model_2D_epsilon(input_size, padding='same', nb_class=2):\n",
    "    inputs = Input(shape=input_size)\n",
    "    nb_slices = inputs.shape[1]\n",
    "    out_list = []\n",
    "    for i in range(nb_slices):\n",
    "        out_list.append(intermediate_network(inputs=inputs, i=i, depth=4, padding='same'))\n",
    "\n",
    "    x = Concatenate()(out_list)\n",
    "    x = Flatten()(x)\n",
    "    \n",
    "    x = Dense(512, activation='relu')(x)\n",
    "    x = BatchNormalization()(x)\n",
    "    x = Dropout(0.7)(x)\n",
    "    \n",
    "    \n",
    "    x = Dense(128, activation='relu')(x)\n",
    "    x = BatchNormalization()(x)\n",
    "    x = Dropout(0.5)(x)\n",
    "    \n",
    "    x = Dense(64, activation='relu')(x)\n",
    "    x = BatchNormalization()(x)\n",
    "    x = Dropout(0.3)(x)\n",
    "    \n",
    "    outputs = Dense(nb_class, activation='softmax')(x)\n",
    "    \n",
    "    return Model(inputs, outputs)"
   ]
  },
  {
   "cell_type": "code",
   "execution_count": 11,
   "id": "3b447579",
   "metadata": {
    "execution": {
     "iopub.execute_input": "2021-12-10T23:46:24.973892Z",
     "iopub.status.busy": "2021-12-10T23:46:24.973393Z",
     "iopub.status.idle": "2021-12-10T23:46:28.111719Z",
     "shell.execute_reply": "2021-12-10T23:46:28.112467Z",
     "shell.execute_reply.started": "2021-12-10T21:08:02.721343Z"
    },
    "papermill": {
     "duration": 3.159266,
     "end_time": "2021-12-10T23:46:28.112696",
     "exception": false,
     "start_time": "2021-12-10T23:46:24.953430",
     "status": "completed"
    },
    "tags": []
   },
   "outputs": [
    {
     "name": "stderr",
     "output_type": "stream",
     "text": [
      "2021-12-10 23:46:25.045217: I tensorflow/stream_executor/cuda/cuda_gpu_executor.cc:937] successful NUMA node read from SysFS had negative value (-1), but there must be at least one NUMA node, so returning NUMA node zero\n",
      "2021-12-10 23:46:25.165387: I tensorflow/stream_executor/cuda/cuda_gpu_executor.cc:937] successful NUMA node read from SysFS had negative value (-1), but there must be at least one NUMA node, so returning NUMA node zero\n",
      "2021-12-10 23:46:25.166163: I tensorflow/stream_executor/cuda/cuda_gpu_executor.cc:937] successful NUMA node read from SysFS had negative value (-1), but there must be at least one NUMA node, so returning NUMA node zero\n",
      "2021-12-10 23:46:25.167503: I tensorflow/core/platform/cpu_feature_guard.cc:142] This TensorFlow binary is optimized with oneAPI Deep Neural Network Library (oneDNN) to use the following CPU instructions in performance-critical operations:  AVX2 AVX512F FMA\n",
      "To enable them in other operations, rebuild TensorFlow with the appropriate compiler flags.\n",
      "2021-12-10 23:46:25.168612: I tensorflow/stream_executor/cuda/cuda_gpu_executor.cc:937] successful NUMA node read from SysFS had negative value (-1), but there must be at least one NUMA node, so returning NUMA node zero\n",
      "2021-12-10 23:46:25.169804: I tensorflow/stream_executor/cuda/cuda_gpu_executor.cc:937] successful NUMA node read from SysFS had negative value (-1), but there must be at least one NUMA node, so returning NUMA node zero\n",
      "2021-12-10 23:46:25.170840: I tensorflow/stream_executor/cuda/cuda_gpu_executor.cc:937] successful NUMA node read from SysFS had negative value (-1), but there must be at least one NUMA node, so returning NUMA node zero\n",
      "2021-12-10 23:46:27.148725: I tensorflow/stream_executor/cuda/cuda_gpu_executor.cc:937] successful NUMA node read from SysFS had negative value (-1), but there must be at least one NUMA node, so returning NUMA node zero\n",
      "2021-12-10 23:46:27.149518: I tensorflow/stream_executor/cuda/cuda_gpu_executor.cc:937] successful NUMA node read from SysFS had negative value (-1), but there must be at least one NUMA node, so returning NUMA node zero\n",
      "2021-12-10 23:46:27.150163: I tensorflow/stream_executor/cuda/cuda_gpu_executor.cc:937] successful NUMA node read from SysFS had negative value (-1), but there must be at least one NUMA node, so returning NUMA node zero\n",
      "2021-12-10 23:46:27.150769: I tensorflow/core/common_runtime/gpu/gpu_device.cc:1510] Created device /job:localhost/replica:0/task:0/device:GPU:0 with 15403 MB memory:  -> device: 0, name: Tesla P100-PCIE-16GB, pci bus id: 0000:00:04.0, compute capability: 6.0\n"
     ]
    },
    {
     "name": "stdout",
     "output_type": "stream",
     "text": [
      "Model: \"model\"\n",
      "__________________________________________________________________________________________________\n",
      "Layer (type)                    Output Shape         Param #     Connected to                     \n",
      "==================================================================================================\n",
      "input_1 (InputLayer)            [(None, 3, 40, 40, 3 0                                            \n",
      "__________________________________________________________________________________________________\n",
      "tf.__operators__.getitem (Slici (None, 40, 40, 3)    0           input_1[0][0]                    \n",
      "__________________________________________________________________________________________________\n",
      "tf.__operators__.getitem_1 (Sli (None, 40, 40, 3)    0           input_1[0][0]                    \n",
      "__________________________________________________________________________________________________\n",
      "tf.__operators__.getitem_2 (Sli (None, 40, 40, 3)    0           input_1[0][0]                    \n",
      "__________________________________________________________________________________________________\n",
      "separable_conv2d (SeparableConv (None, 40, 40, 32)   155         tf.__operators__.getitem[0][0]   \n",
      "__________________________________________________________________________________________________\n",
      "separable_conv2d_8 (SeparableCo (None, 40, 40, 32)   155         tf.__operators__.getitem_1[0][0] \n",
      "__________________________________________________________________________________________________\n",
      "separable_conv2d_16 (SeparableC (None, 40, 40, 32)   155         tf.__operators__.getitem_2[0][0] \n",
      "__________________________________________________________________________________________________\n",
      "batch_normalization (BatchNorma (None, 40, 40, 32)   128         separable_conv2d[0][0]           \n",
      "__________________________________________________________________________________________________\n",
      "batch_normalization_8 (BatchNor (None, 40, 40, 32)   128         separable_conv2d_8[0][0]         \n",
      "__________________________________________________________________________________________________\n",
      "batch_normalization_16 (BatchNo (None, 40, 40, 32)   128         separable_conv2d_16[0][0]        \n",
      "__________________________________________________________________________________________________\n",
      "activation (Activation)         (None, 40, 40, 32)   0           batch_normalization[0][0]        \n",
      "__________________________________________________________________________________________________\n",
      "activation_8 (Activation)       (None, 40, 40, 32)   0           batch_normalization_8[0][0]      \n",
      "__________________________________________________________________________________________________\n",
      "activation_16 (Activation)      (None, 40, 40, 32)   0           batch_normalization_16[0][0]     \n",
      "__________________________________________________________________________________________________\n",
      "separable_conv2d_1 (SeparableCo (None, 40, 40, 32)   1344        activation[0][0]                 \n",
      "__________________________________________________________________________________________________\n",
      "separable_conv2d_9 (SeparableCo (None, 40, 40, 32)   1344        activation_8[0][0]               \n",
      "__________________________________________________________________________________________________\n",
      "separable_conv2d_17 (SeparableC (None, 40, 40, 32)   1344        activation_16[0][0]              \n",
      "__________________________________________________________________________________________________\n",
      "batch_normalization_1 (BatchNor (None, 40, 40, 32)   128         separable_conv2d_1[0][0]         \n",
      "__________________________________________________________________________________________________\n",
      "batch_normalization_9 (BatchNor (None, 40, 40, 32)   128         separable_conv2d_9[0][0]         \n",
      "__________________________________________________________________________________________________\n",
      "batch_normalization_17 (BatchNo (None, 40, 40, 32)   128         separable_conv2d_17[0][0]        \n",
      "__________________________________________________________________________________________________\n",
      "activation_1 (Activation)       (None, 40, 40, 32)   0           batch_normalization_1[0][0]      \n",
      "__________________________________________________________________________________________________\n",
      "activation_9 (Activation)       (None, 40, 40, 32)   0           batch_normalization_9[0][0]      \n",
      "__________________________________________________________________________________________________\n",
      "activation_17 (Activation)      (None, 40, 40, 32)   0           batch_normalization_17[0][0]     \n",
      "__________________________________________________________________________________________________\n",
      "max_pooling2d (MaxPooling2D)    (None, 20, 20, 32)   0           activation_1[0][0]               \n",
      "__________________________________________________________________________________________________\n",
      "max_pooling2d_3 (MaxPooling2D)  (None, 20, 20, 32)   0           activation_9[0][0]               \n",
      "__________________________________________________________________________________________________\n",
      "max_pooling2d_6 (MaxPooling2D)  (None, 20, 20, 32)   0           activation_17[0][0]              \n",
      "__________________________________________________________________________________________________\n",
      "separable_conv2d_2 (SeparableCo (None, 20, 20, 64)   2400        max_pooling2d[0][0]              \n",
      "__________________________________________________________________________________________________\n",
      "separable_conv2d_10 (SeparableC (None, 20, 20, 64)   2400        max_pooling2d_3[0][0]            \n",
      "__________________________________________________________________________________________________\n",
      "separable_conv2d_18 (SeparableC (None, 20, 20, 64)   2400        max_pooling2d_6[0][0]            \n",
      "__________________________________________________________________________________________________\n",
      "batch_normalization_2 (BatchNor (None, 20, 20, 64)   256         separable_conv2d_2[0][0]         \n",
      "__________________________________________________________________________________________________\n",
      "batch_normalization_10 (BatchNo (None, 20, 20, 64)   256         separable_conv2d_10[0][0]        \n",
      "__________________________________________________________________________________________________\n",
      "batch_normalization_18 (BatchNo (None, 20, 20, 64)   256         separable_conv2d_18[0][0]        \n",
      "__________________________________________________________________________________________________\n",
      "activation_2 (Activation)       (None, 20, 20, 64)   0           batch_normalization_2[0][0]      \n",
      "__________________________________________________________________________________________________\n",
      "activation_10 (Activation)      (None, 20, 20, 64)   0           batch_normalization_10[0][0]     \n",
      "__________________________________________________________________________________________________\n",
      "activation_18 (Activation)      (None, 20, 20, 64)   0           batch_normalization_18[0][0]     \n",
      "__________________________________________________________________________________________________\n",
      "separable_conv2d_3 (SeparableCo (None, 20, 20, 64)   4736        activation_2[0][0]               \n",
      "__________________________________________________________________________________________________\n",
      "separable_conv2d_11 (SeparableC (None, 20, 20, 64)   4736        activation_10[0][0]              \n",
      "__________________________________________________________________________________________________\n",
      "separable_conv2d_19 (SeparableC (None, 20, 20, 64)   4736        activation_18[0][0]              \n",
      "__________________________________________________________________________________________________\n",
      "batch_normalization_3 (BatchNor (None, 20, 20, 64)   256         separable_conv2d_3[0][0]         \n",
      "__________________________________________________________________________________________________\n",
      "batch_normalization_11 (BatchNo (None, 20, 20, 64)   256         separable_conv2d_11[0][0]        \n",
      "__________________________________________________________________________________________________\n",
      "batch_normalization_19 (BatchNo (None, 20, 20, 64)   256         separable_conv2d_19[0][0]        \n",
      "__________________________________________________________________________________________________\n",
      "activation_3 (Activation)       (None, 20, 20, 64)   0           batch_normalization_3[0][0]      \n",
      "__________________________________________________________________________________________________\n",
      "activation_11 (Activation)      (None, 20, 20, 64)   0           batch_normalization_11[0][0]     \n",
      "__________________________________________________________________________________________________\n",
      "activation_19 (Activation)      (None, 20, 20, 64)   0           batch_normalization_19[0][0]     \n",
      "__________________________________________________________________________________________________\n",
      "max_pooling2d_1 (MaxPooling2D)  (None, 10, 10, 64)   0           activation_3[0][0]               \n",
      "__________________________________________________________________________________________________\n",
      "max_pooling2d_4 (MaxPooling2D)  (None, 10, 10, 64)   0           activation_11[0][0]              \n",
      "__________________________________________________________________________________________________\n",
      "max_pooling2d_7 (MaxPooling2D)  (None, 10, 10, 64)   0           activation_19[0][0]              \n",
      "__________________________________________________________________________________________________\n",
      "separable_conv2d_4 (SeparableCo (None, 10, 10, 128)  8896        max_pooling2d_1[0][0]            \n",
      "__________________________________________________________________________________________________\n",
      "separable_conv2d_12 (SeparableC (None, 10, 10, 128)  8896        max_pooling2d_4[0][0]            \n",
      "__________________________________________________________________________________________________\n",
      "separable_conv2d_20 (SeparableC (None, 10, 10, 128)  8896        max_pooling2d_7[0][0]            \n",
      "__________________________________________________________________________________________________\n",
      "batch_normalization_4 (BatchNor (None, 10, 10, 128)  512         separable_conv2d_4[0][0]         \n",
      "__________________________________________________________________________________________________\n",
      "batch_normalization_12 (BatchNo (None, 10, 10, 128)  512         separable_conv2d_12[0][0]        \n",
      "__________________________________________________________________________________________________\n",
      "batch_normalization_20 (BatchNo (None, 10, 10, 128)  512         separable_conv2d_20[0][0]        \n",
      "__________________________________________________________________________________________________\n",
      "activation_4 (Activation)       (None, 10, 10, 128)  0           batch_normalization_4[0][0]      \n",
      "__________________________________________________________________________________________________\n",
      "activation_12 (Activation)      (None, 10, 10, 128)  0           batch_normalization_12[0][0]     \n",
      "__________________________________________________________________________________________________\n",
      "activation_20 (Activation)      (None, 10, 10, 128)  0           batch_normalization_20[0][0]     \n",
      "__________________________________________________________________________________________________\n",
      "separable_conv2d_5 (SeparableCo (None, 10, 10, 128)  17664       activation_4[0][0]               \n",
      "__________________________________________________________________________________________________\n",
      "separable_conv2d_13 (SeparableC (None, 10, 10, 128)  17664       activation_12[0][0]              \n",
      "__________________________________________________________________________________________________\n",
      "separable_conv2d_21 (SeparableC (None, 10, 10, 128)  17664       activation_20[0][0]              \n",
      "__________________________________________________________________________________________________\n",
      "batch_normalization_5 (BatchNor (None, 10, 10, 128)  512         separable_conv2d_5[0][0]         \n",
      "__________________________________________________________________________________________________\n",
      "batch_normalization_13 (BatchNo (None, 10, 10, 128)  512         separable_conv2d_13[0][0]        \n",
      "__________________________________________________________________________________________________\n",
      "batch_normalization_21 (BatchNo (None, 10, 10, 128)  512         separable_conv2d_21[0][0]        \n",
      "__________________________________________________________________________________________________\n",
      "activation_5 (Activation)       (None, 10, 10, 128)  0           batch_normalization_5[0][0]      \n",
      "__________________________________________________________________________________________________\n",
      "activation_13 (Activation)      (None, 10, 10, 128)  0           batch_normalization_13[0][0]     \n",
      "__________________________________________________________________________________________________\n",
      "activation_21 (Activation)      (None, 10, 10, 128)  0           batch_normalization_21[0][0]     \n",
      "__________________________________________________________________________________________________\n",
      "max_pooling2d_2 (MaxPooling2D)  (None, 5, 5, 128)    0           activation_5[0][0]               \n",
      "__________________________________________________________________________________________________\n",
      "max_pooling2d_5 (MaxPooling2D)  (None, 5, 5, 128)    0           activation_13[0][0]              \n",
      "__________________________________________________________________________________________________\n",
      "max_pooling2d_8 (MaxPooling2D)  (None, 5, 5, 128)    0           activation_21[0][0]              \n",
      "__________________________________________________________________________________________________\n",
      "separable_conv2d_6 (SeparableCo (None, 5, 5, 256)    34176       max_pooling2d_2[0][0]            \n",
      "__________________________________________________________________________________________________\n",
      "separable_conv2d_14 (SeparableC (None, 5, 5, 256)    34176       max_pooling2d_5[0][0]            \n",
      "__________________________________________________________________________________________________\n",
      "separable_conv2d_22 (SeparableC (None, 5, 5, 256)    34176       max_pooling2d_8[0][0]            \n",
      "__________________________________________________________________________________________________\n",
      "batch_normalization_6 (BatchNor (None, 5, 5, 256)    1024        separable_conv2d_6[0][0]         \n",
      "__________________________________________________________________________________________________\n",
      "batch_normalization_14 (BatchNo (None, 5, 5, 256)    1024        separable_conv2d_14[0][0]        \n",
      "__________________________________________________________________________________________________\n",
      "batch_normalization_22 (BatchNo (None, 5, 5, 256)    1024        separable_conv2d_22[0][0]        \n",
      "__________________________________________________________________________________________________\n",
      "activation_6 (Activation)       (None, 5, 5, 256)    0           batch_normalization_6[0][0]      \n",
      "__________________________________________________________________________________________________\n",
      "activation_14 (Activation)      (None, 5, 5, 256)    0           batch_normalization_14[0][0]     \n",
      "__________________________________________________________________________________________________\n",
      "activation_22 (Activation)      (None, 5, 5, 256)    0           batch_normalization_22[0][0]     \n",
      "__________________________________________________________________________________________________\n",
      "separable_conv2d_7 (SeparableCo (None, 5, 5, 256)    68096       activation_6[0][0]               \n",
      "__________________________________________________________________________________________________\n",
      "separable_conv2d_15 (SeparableC (None, 5, 5, 256)    68096       activation_14[0][0]              \n",
      "__________________________________________________________________________________________________\n",
      "separable_conv2d_23 (SeparableC (None, 5, 5, 256)    68096       activation_22[0][0]              \n",
      "__________________________________________________________________________________________________\n",
      "batch_normalization_7 (BatchNor (None, 5, 5, 256)    1024        separable_conv2d_7[0][0]         \n",
      "__________________________________________________________________________________________________\n",
      "batch_normalization_15 (BatchNo (None, 5, 5, 256)    1024        separable_conv2d_15[0][0]        \n",
      "__________________________________________________________________________________________________\n",
      "batch_normalization_23 (BatchNo (None, 5, 5, 256)    1024        separable_conv2d_23[0][0]        \n",
      "__________________________________________________________________________________________________\n",
      "activation_7 (Activation)       (None, 5, 5, 256)    0           batch_normalization_7[0][0]      \n",
      "__________________________________________________________________________________________________\n",
      "activation_15 (Activation)      (None, 5, 5, 256)    0           batch_normalization_15[0][0]     \n",
      "__________________________________________________________________________________________________\n",
      "activation_23 (Activation)      (None, 5, 5, 256)    0           batch_normalization_23[0][0]     \n",
      "__________________________________________________________________________________________________\n",
      "dropout (Dropout)               (None, 5, 5, 256)    0           activation_7[0][0]               \n",
      "__________________________________________________________________________________________________\n",
      "dropout_1 (Dropout)             (None, 5, 5, 256)    0           activation_15[0][0]              \n",
      "__________________________________________________________________________________________________\n",
      "dropout_2 (Dropout)             (None, 5, 5, 256)    0           activation_23[0][0]              \n",
      "__________________________________________________________________________________________________\n",
      "flatten (Flatten)               (None, 6400)         0           dropout[0][0]                    \n",
      "__________________________________________________________________________________________________\n",
      "flatten_1 (Flatten)             (None, 6400)         0           dropout_1[0][0]                  \n",
      "__________________________________________________________________________________________________\n",
      "flatten_2 (Flatten)             (None, 6400)         0           dropout_2[0][0]                  \n",
      "__________________________________________________________________________________________________\n",
      "concatenate (Concatenate)       (None, 19200)        0           flatten[0][0]                    \n",
      "                                                                 flatten_1[0][0]                  \n",
      "                                                                 flatten_2[0][0]                  \n",
      "__________________________________________________________________________________________________\n",
      "flatten_3 (Flatten)             (None, 19200)        0           concatenate[0][0]                \n",
      "__________________________________________________________________________________________________\n",
      "dense (Dense)                   (None, 512)          9830912     flatten_3[0][0]                  \n",
      "__________________________________________________________________________________________________\n",
      "batch_normalization_24 (BatchNo (None, 512)          2048        dense[0][0]                      \n",
      "__________________________________________________________________________________________________\n",
      "dropout_3 (Dropout)             (None, 512)          0           batch_normalization_24[0][0]     \n",
      "__________________________________________________________________________________________________\n",
      "dense_1 (Dense)                 (None, 128)          65664       dropout_3[0][0]                  \n",
      "__________________________________________________________________________________________________\n",
      "batch_normalization_25 (BatchNo (None, 128)          512         dense_1[0][0]                    \n",
      "__________________________________________________________________________________________________\n",
      "dropout_4 (Dropout)             (None, 128)          0           batch_normalization_25[0][0]     \n",
      "__________________________________________________________________________________________________\n",
      "dense_2 (Dense)                 (None, 64)           8256        dropout_4[0][0]                  \n",
      "__________________________________________________________________________________________________\n",
      "batch_normalization_26 (BatchNo (None, 64)           256         dense_2[0][0]                    \n",
      "__________________________________________________________________________________________________\n",
      "dropout_5 (Dropout)             (None, 64)           0           batch_normalization_26[0][0]     \n",
      "__________________________________________________________________________________________________\n",
      "dense_3 (Dense)                 (None, 2)            130         dropout_5[0][0]                  \n",
      "==================================================================================================\n",
      "Total params: 10,331,699\n",
      "Trainable params: 10,324,531\n",
      "Non-trainable params: 7,168\n",
      "__________________________________________________________________________________________________\n"
     ]
    }
   ],
   "source": [
    "from tensorflow.keras.optimizers import Adam\n",
    "\n",
    "model_2 = create_model_2D_epsilon(X_train[0].shape)\n",
    "model_2.summary()\n",
    "model_2.compile(optimizer=Adam(1e-4), loss='binary_crossentropy', metrics=['accuracy'])"
   ]
  },
  {
   "cell_type": "code",
   "execution_count": 12,
   "id": "1713733f",
   "metadata": {
    "execution": {
     "iopub.execute_input": "2021-12-10T23:46:28.158404Z",
     "iopub.status.busy": "2021-12-10T23:46:28.157312Z",
     "iopub.status.idle": "2021-12-10T23:54:54.534640Z",
     "shell.execute_reply": "2021-12-10T23:54:54.534042Z",
     "shell.execute_reply.started": "2021-12-10T21:08:05.842115Z"
    },
    "papermill": {
     "duration": 506.401853,
     "end_time": "2021-12-10T23:54:54.534782",
     "exception": false,
     "start_time": "2021-12-10T23:46:28.132929",
     "status": "completed"
    },
    "tags": []
   },
   "outputs": [
    {
     "name": "stderr",
     "output_type": "stream",
     "text": [
      "2021-12-10 23:46:28.789229: I tensorflow/compiler/mlir/mlir_graph_optimization_pass.cc:185] None of the MLIR Optimization Passes are enabled (registered 2)\n"
     ]
    },
    {
     "name": "stdout",
     "output_type": "stream",
     "text": [
      "Epoch 1/80\n"
     ]
    },
    {
     "name": "stderr",
     "output_type": "stream",
     "text": [
      "2021-12-10 23:46:33.498416: I tensorflow/stream_executor/cuda/cuda_dnn.cc:369] Loaded cuDNN version 8005\n"
     ]
    },
    {
     "name": "stdout",
     "output_type": "stream",
     "text": [
      "117/117 [==============================] - 17s 57ms/step - loss: 0.7875 - accuracy: 0.6404 - val_loss: 0.6869 - val_accuracy: 0.5634\n",
      "Epoch 2/80\n",
      "117/117 [==============================] - 6s 50ms/step - loss: 0.6448 - accuracy: 0.7203 - val_loss: 0.6901 - val_accuracy: 0.5634\n",
      "Epoch 3/80\n",
      "117/117 [==============================] - 6s 49ms/step - loss: 0.6100 - accuracy: 0.7448 - val_loss: 0.6899 - val_accuracy: 0.5634\n",
      "Epoch 4/80\n",
      "117/117 [==============================] - 6s 51ms/step - loss: 0.5549 - accuracy: 0.7749 - val_loss: 0.6963 - val_accuracy: 0.5634\n",
      "Epoch 5/80\n",
      "117/117 [==============================] - 6s 48ms/step - loss: 0.4894 - accuracy: 0.8042 - val_loss: 0.7227 - val_accuracy: 0.5634\n",
      "Epoch 6/80\n",
      "117/117 [==============================] - 6s 49ms/step - loss: 0.4496 - accuracy: 0.8217 - val_loss: 0.6105 - val_accuracy: 0.6473\n",
      "Epoch 7/80\n",
      "117/117 [==============================] - 6s 48ms/step - loss: 0.3953 - accuracy: 0.8440 - val_loss: 0.4787 - val_accuracy: 0.7785\n",
      "Epoch 8/80\n",
      "117/117 [==============================] - 6s 49ms/step - loss: 0.3518 - accuracy: 0.8623 - val_loss: 0.4415 - val_accuracy: 0.7989\n",
      "Epoch 9/80\n",
      "117/117 [==============================] - 6s 49ms/step - loss: 0.2988 - accuracy: 0.8889 - val_loss: 0.4018 - val_accuracy: 0.8247\n",
      "Epoch 10/80\n",
      "117/117 [==============================] - 6s 51ms/step - loss: 0.2482 - accuracy: 0.9190 - val_loss: 0.3814 - val_accuracy: 0.8290\n",
      "Epoch 11/80\n",
      "117/117 [==============================] - 6s 50ms/step - loss: 0.2222 - accuracy: 0.9282 - val_loss: 0.3765 - val_accuracy: 0.8312\n",
      "Epoch 12/80\n",
      "117/117 [==============================] - 6s 50ms/step - loss: 0.1714 - accuracy: 0.9462 - val_loss: 0.4136 - val_accuracy: 0.8258\n",
      "Epoch 13/80\n",
      "117/117 [==============================] - 6s 49ms/step - loss: 0.1480 - accuracy: 0.9570 - val_loss: 0.4595 - val_accuracy: 0.8204\n",
      "Epoch 14/80\n",
      "117/117 [==============================] - 6s 50ms/step - loss: 0.1042 - accuracy: 0.9769 - val_loss: 0.3927 - val_accuracy: 0.8376\n",
      "Epoch 15/80\n",
      "117/117 [==============================] - 6s 52ms/step - loss: 0.1034 - accuracy: 0.9704 - val_loss: 0.4017 - val_accuracy: 0.8258\n",
      "Epoch 16/80\n",
      "117/117 [==============================] - 6s 49ms/step - loss: 0.0928 - accuracy: 0.9774 - val_loss: 0.4244 - val_accuracy: 0.8290\n",
      "Epoch 17/80\n",
      "117/117 [==============================] - 6s 50ms/step - loss: 0.0806 - accuracy: 0.9814 - val_loss: 0.4152 - val_accuracy: 0.8430\n",
      "Epoch 18/80\n",
      "117/117 [==============================] - 6s 49ms/step - loss: 0.0682 - accuracy: 0.9831 - val_loss: 0.4131 - val_accuracy: 0.8387\n",
      "Epoch 19/80\n",
      "117/117 [==============================] - 6s 49ms/step - loss: 0.0589 - accuracy: 0.9890 - val_loss: 0.6653 - val_accuracy: 0.7914\n",
      "Epoch 20/80\n",
      "117/117 [==============================] - 6s 49ms/step - loss: 0.0589 - accuracy: 0.9863 - val_loss: 0.4491 - val_accuracy: 0.8312\n",
      "Epoch 21/80\n",
      "117/117 [==============================] - 6s 50ms/step - loss: 0.0440 - accuracy: 0.9925 - val_loss: 0.4539 - val_accuracy: 0.8290\n",
      "Epoch 22/80\n",
      "117/117 [==============================] - 6s 48ms/step - loss: 0.0587 - accuracy: 0.9860 - val_loss: 0.4932 - val_accuracy: 0.8237\n",
      "Epoch 23/80\n",
      "117/117 [==============================] - 6s 49ms/step - loss: 0.0370 - accuracy: 0.9922 - val_loss: 0.4914 - val_accuracy: 0.8312\n",
      "Epoch 24/80\n",
      "117/117 [==============================] - 6s 49ms/step - loss: 0.0451 - accuracy: 0.9892 - val_loss: 0.4833 - val_accuracy: 0.8323\n",
      "Epoch 25/80\n",
      "117/117 [==============================] - 6s 52ms/step - loss: 0.0379 - accuracy: 0.9903 - val_loss: 0.4931 - val_accuracy: 0.8237\n",
      "Epoch 26/80\n",
      "117/117 [==============================] - 6s 51ms/step - loss: 0.0351 - accuracy: 0.9911 - val_loss: 0.5220 - val_accuracy: 0.8247\n",
      "Epoch 27/80\n",
      "117/117 [==============================] - 6s 49ms/step - loss: 0.0304 - accuracy: 0.9925 - val_loss: 0.4914 - val_accuracy: 0.8419\n",
      "Epoch 28/80\n",
      "117/117 [==============================] - 6s 50ms/step - loss: 0.0317 - accuracy: 0.9917 - val_loss: 0.5134 - val_accuracy: 0.8409\n",
      "Epoch 29/80\n",
      "117/117 [==============================] - 6s 49ms/step - loss: 0.0249 - accuracy: 0.9957 - val_loss: 0.5406 - val_accuracy: 0.8301\n",
      "Epoch 30/80\n",
      "117/117 [==============================] - 6s 50ms/step - loss: 0.0263 - accuracy: 0.9930 - val_loss: 0.5249 - val_accuracy: 0.8398\n",
      "Epoch 31/80\n",
      "117/117 [==============================] - 6s 48ms/step - loss: 0.0388 - accuracy: 0.9879 - val_loss: 0.5287 - val_accuracy: 0.8290\n",
      "Epoch 32/80\n",
      "117/117 [==============================] - 6s 50ms/step - loss: 0.0376 - accuracy: 0.9879 - val_loss: 0.8467 - val_accuracy: 0.7806\n",
      "Epoch 33/80\n",
      "117/117 [==============================] - 6s 48ms/step - loss: 0.0315 - accuracy: 0.9909 - val_loss: 0.4954 - val_accuracy: 0.8516\n",
      "Epoch 34/80\n",
      "117/117 [==============================] - 6s 49ms/step - loss: 0.0332 - accuracy: 0.9898 - val_loss: 0.5509 - val_accuracy: 0.8409\n",
      "Epoch 35/80\n",
      "117/117 [==============================] - 6s 49ms/step - loss: 0.0355 - accuracy: 0.9887 - val_loss: 0.7844 - val_accuracy: 0.7839\n",
      "Epoch 36/80\n",
      "117/117 [==============================] - 6s 50ms/step - loss: 0.0221 - accuracy: 0.9930 - val_loss: 0.5549 - val_accuracy: 0.8366\n",
      "Epoch 37/80\n",
      "117/117 [==============================] - 6s 50ms/step - loss: 0.0545 - accuracy: 0.9817 - val_loss: 0.5363 - val_accuracy: 0.8419\n",
      "Epoch 38/80\n",
      "117/117 [==============================] - 6s 49ms/step - loss: 0.0511 - accuracy: 0.9847 - val_loss: 0.5880 - val_accuracy: 0.8419\n",
      "Epoch 39/80\n",
      "117/117 [==============================] - 6s 49ms/step - loss: 0.0351 - accuracy: 0.9868 - val_loss: 0.5961 - val_accuracy: 0.8387\n",
      "Epoch 40/80\n",
      "117/117 [==============================] - 6s 50ms/step - loss: 0.0278 - accuracy: 0.9909 - val_loss: 0.5374 - val_accuracy: 0.8355\n",
      "Epoch 41/80\n",
      "117/117 [==============================] - 6s 50ms/step - loss: 0.0214 - accuracy: 0.9941 - val_loss: 0.5175 - val_accuracy: 0.8452\n",
      "Epoch 42/80\n",
      "117/117 [==============================] - 6s 50ms/step - loss: 0.0304 - accuracy: 0.9895 - val_loss: 0.6480 - val_accuracy: 0.8290\n",
      "Epoch 43/80\n",
      "117/117 [==============================] - 6s 50ms/step - loss: 0.0243 - accuracy: 0.9930 - val_loss: 0.5511 - val_accuracy: 0.8387\n",
      "Epoch 44/80\n",
      "117/117 [==============================] - 6s 50ms/step - loss: 0.0214 - accuracy: 0.9946 - val_loss: 0.6606 - val_accuracy: 0.8419\n",
      "Epoch 45/80\n",
      "117/117 [==============================] - 6s 49ms/step - loss: 0.0294 - accuracy: 0.9900 - val_loss: 0.7128 - val_accuracy: 0.8161\n",
      "Epoch 46/80\n",
      "117/117 [==============================] - 6s 51ms/step - loss: 0.0251 - accuracy: 0.9927 - val_loss: 0.5773 - val_accuracy: 0.8505\n",
      "Epoch 47/80\n",
      "117/117 [==============================] - 6s 50ms/step - loss: 0.0225 - accuracy: 0.9914 - val_loss: 0.6381 - val_accuracy: 0.8398\n",
      "Epoch 48/80\n",
      "117/117 [==============================] - 6s 51ms/step - loss: 0.0495 - accuracy: 0.9849 - val_loss: 0.5603 - val_accuracy: 0.8419\n",
      "Epoch 49/80\n",
      "117/117 [==============================] - 6s 49ms/step - loss: 0.0444 - accuracy: 0.9841 - val_loss: 0.6369 - val_accuracy: 0.8344\n",
      "Epoch 50/80\n",
      "117/117 [==============================] - 6s 49ms/step - loss: 0.0285 - accuracy: 0.9900 - val_loss: 0.6186 - val_accuracy: 0.8452\n",
      "Epoch 51/80\n",
      "117/117 [==============================] - 6s 51ms/step - loss: 0.0187 - accuracy: 0.9946 - val_loss: 0.6098 - val_accuracy: 0.8430\n",
      "Epoch 52/80\n",
      "117/117 [==============================] - 6s 49ms/step - loss: 0.0180 - accuracy: 0.9944 - val_loss: 0.5987 - val_accuracy: 0.8355\n",
      "Epoch 53/80\n",
      "117/117 [==============================] - 6s 51ms/step - loss: 0.0244 - accuracy: 0.9914 - val_loss: 0.7501 - val_accuracy: 0.8290\n",
      "Epoch 54/80\n",
      "117/117 [==============================] - 6s 50ms/step - loss: 0.0273 - accuracy: 0.9914 - val_loss: 0.5227 - val_accuracy: 0.8645\n",
      "Epoch 55/80\n",
      "117/117 [==============================] - 6s 49ms/step - loss: 0.0204 - accuracy: 0.9933 - val_loss: 0.6249 - val_accuracy: 0.8333\n",
      "Epoch 56/80\n",
      "117/117 [==============================] - 6s 49ms/step - loss: 0.0374 - accuracy: 0.9879 - val_loss: 0.5750 - val_accuracy: 0.8495\n",
      "Epoch 57/80\n",
      "117/117 [==============================] - 6s 52ms/step - loss: 0.0255 - accuracy: 0.9925 - val_loss: 0.6232 - val_accuracy: 0.8452\n",
      "Epoch 58/80\n",
      "117/117 [==============================] - 6s 48ms/step - loss: 0.0248 - accuracy: 0.9919 - val_loss: 0.6353 - val_accuracy: 0.8441\n",
      "Epoch 59/80\n",
      "117/117 [==============================] - 6s 51ms/step - loss: 0.0406 - accuracy: 0.9871 - val_loss: 0.6317 - val_accuracy: 0.8495\n",
      "Epoch 60/80\n",
      "117/117 [==============================] - 6s 50ms/step - loss: 0.0219 - accuracy: 0.9925 - val_loss: 0.6048 - val_accuracy: 0.8398\n",
      "Epoch 61/80\n",
      "117/117 [==============================] - 6s 50ms/step - loss: 0.0287 - accuracy: 0.9900 - val_loss: 0.5964 - val_accuracy: 0.8581\n",
      "Epoch 62/80\n",
      "117/117 [==============================] - 6s 51ms/step - loss: 0.0287 - accuracy: 0.9919 - val_loss: 0.6619 - val_accuracy: 0.8441\n",
      "Epoch 63/80\n",
      "117/117 [==============================] - 6s 50ms/step - loss: 0.0594 - accuracy: 0.9852 - val_loss: 0.5923 - val_accuracy: 0.8473\n",
      "Epoch 64/80\n",
      "117/117 [==============================] - 6s 49ms/step - loss: 0.0462 - accuracy: 0.9844 - val_loss: 0.6018 - val_accuracy: 0.8484\n",
      "Epoch 65/80\n",
      "117/117 [==============================] - 6s 51ms/step - loss: 0.0366 - accuracy: 0.9900 - val_loss: 0.6235 - val_accuracy: 0.8323\n",
      "Epoch 66/80\n",
      "117/117 [==============================] - 6s 50ms/step - loss: 0.0270 - accuracy: 0.9930 - val_loss: 0.6578 - val_accuracy: 0.8452\n",
      "Epoch 67/80\n",
      "117/117 [==============================] - 6s 50ms/step - loss: 0.0177 - accuracy: 0.9962 - val_loss: 0.7405 - val_accuracy: 0.8269\n",
      "Epoch 68/80\n",
      "117/117 [==============================] - 6s 53ms/step - loss: 0.0259 - accuracy: 0.9919 - val_loss: 0.6007 - val_accuracy: 0.8570\n",
      "Epoch 69/80\n",
      "117/117 [==============================] - 6s 49ms/step - loss: 0.0203 - accuracy: 0.9946 - val_loss: 0.6255 - val_accuracy: 0.8495\n",
      "Epoch 70/80\n",
      "117/117 [==============================] - 6s 54ms/step - loss: 0.0443 - accuracy: 0.9866 - val_loss: 0.6248 - val_accuracy: 0.8398\n",
      "Epoch 71/80\n",
      "117/117 [==============================] - 6s 48ms/step - loss: 0.0500 - accuracy: 0.9866 - val_loss: 0.5893 - val_accuracy: 0.8570\n",
      "Epoch 72/80\n",
      "117/117 [==============================] - 6s 49ms/step - loss: 0.0200 - accuracy: 0.9946 - val_loss: 0.5717 - val_accuracy: 0.8624\n",
      "Epoch 73/80\n",
      "117/117 [==============================] - 6s 51ms/step - loss: 0.0246 - accuracy: 0.9938 - val_loss: 0.5737 - val_accuracy: 0.8656\n",
      "Epoch 74/80\n",
      "117/117 [==============================] - 6s 51ms/step - loss: 0.0230 - accuracy: 0.9922 - val_loss: 0.5719 - val_accuracy: 0.8645\n",
      "Epoch 75/80\n",
      "117/117 [==============================] - 6s 51ms/step - loss: 0.0177 - accuracy: 0.9960 - val_loss: 0.5327 - val_accuracy: 0.8667\n",
      "Epoch 76/80\n",
      "117/117 [==============================] - 6s 50ms/step - loss: 0.0210 - accuracy: 0.9919 - val_loss: 0.5601 - val_accuracy: 0.8613\n",
      "Epoch 77/80\n",
      "117/117 [==============================] - 6s 50ms/step - loss: 0.0305 - accuracy: 0.9922 - val_loss: 0.6372 - val_accuracy: 0.8527\n",
      "Epoch 78/80\n",
      "117/117 [==============================] - 6s 49ms/step - loss: 0.0151 - accuracy: 0.9952 - val_loss: 0.6839 - val_accuracy: 0.8495\n",
      "Epoch 79/80\n",
      "117/117 [==============================] - 6s 53ms/step - loss: 0.0332 - accuracy: 0.9874 - val_loss: 0.5700 - val_accuracy: 0.8656\n",
      "Epoch 80/80\n",
      "117/117 [==============================] - 6s 48ms/step - loss: 0.0189 - accuracy: 0.9938 - val_loss: 0.5931 - val_accuracy: 0.8613\n"
     ]
    }
   ],
   "source": [
    "history = model_2.fit(X_train, Y_train, epochs=80, validation_data=(X_val, Y_val))"
   ]
  },
  {
   "cell_type": "markdown",
   "id": "ceb6bbf5",
   "metadata": {
    "papermill": {
     "duration": 1.508677,
     "end_time": "2021-12-10T23:54:57.589461",
     "exception": false,
     "start_time": "2021-12-10T23:54:56.080784",
     "status": "completed"
    },
    "tags": []
   },
   "source": [
    "## Loss visualization function\n",
    "This function is used to visualize the variations of loss, val_loss, accuracy and val_accuracy over epochs. It is used for 3D and 2D models. "
   ]
  },
  {
   "cell_type": "code",
   "execution_count": 13,
   "id": "6b4403c0",
   "metadata": {
    "execution": {
     "iopub.execute_input": "2021-12-10T23:55:00.578229Z",
     "iopub.status.busy": "2021-12-10T23:55:00.577663Z",
     "iopub.status.idle": "2021-12-10T23:55:00.581454Z",
     "shell.execute_reply": "2021-12-10T23:55:00.580984Z",
     "shell.execute_reply.started": "2021-12-10T21:15:57.142575Z"
    },
    "papermill": {
     "duration": 1.507259,
     "end_time": "2021-12-10T23:55:00.581598",
     "exception": false,
     "start_time": "2021-12-10T23:54:59.074339",
     "status": "completed"
    },
    "tags": []
   },
   "outputs": [],
   "source": [
    "import matplotlib.pyplot as plt\n",
    "\n",
    "# Plot the validation and training data separately\n",
    "def plot_loss_curves(history):\n",
    "      \"\"\"\n",
    "      Returns separate loss curves for training and validation metrics.\n",
    "      \"\"\" \n",
    "      loss = history.history['loss']\n",
    "      val_loss = history.history['val_loss']\n",
    "\n",
    "      accuracy = history.history['accuracy']\n",
    "      val_accuracy = history.history['val_accuracy']\n",
    "\n",
    "      epochs = range(len(history.history['loss']))\n",
    "\n",
    "      # Plot loss\n",
    "      plt.plot(epochs, loss, label='training_loss')\n",
    "      plt.plot(epochs, val_loss, label='val_loss')\n",
    "      plt.title('Loss')\n",
    "      plt.xlabel('Epochs')\n",
    "      plt.legend()\n",
    "\n",
    "      # Plot accuracy\n",
    "      plt.figure()\n",
    "      plt.plot(epochs, accuracy, label='training_accuracy')\n",
    "      plt.plot(epochs, val_accuracy, label='val_accuracy')\n",
    "      plt.title('Accuracy')\n",
    "      plt.xlabel('Epochs')\n",
    "      plt.legend()\n",
    "      plt.savefig('accuracy.png')"
   ]
  },
  {
   "cell_type": "code",
   "execution_count": 14,
   "id": "4230a189",
   "metadata": {
    "execution": {
     "iopub.execute_input": "2021-12-10T23:55:04.471508Z",
     "iopub.status.busy": "2021-12-10T23:55:04.470360Z",
     "iopub.status.idle": "2021-12-10T23:55:04.585007Z",
     "shell.execute_reply": "2021-12-10T23:55:04.584514Z",
     "shell.execute_reply.started": "2021-12-10T21:15:57.153821Z"
    },
    "papermill": {
     "duration": 2.507603,
     "end_time": "2021-12-10T23:55:04.585185",
     "exception": false,
     "start_time": "2021-12-10T23:55:02.077582",
     "status": "completed"
    },
    "tags": []
   },
   "outputs": [
    {
     "name": "stdout",
     "output_type": "stream",
     "text": [
      "6/6 [==============================] - 0s 8ms/step - loss: 0.5722 - accuracy: 0.8614\n",
      "Testing Accuracy: 86.14%\n"
     ]
    }
   ],
   "source": [
    "#Evaluating the model on testing data\n",
    "\n",
    "test_scores = model_2.evaluate(X_test, Y_test)\n",
    "print(\"Testing Accuracy: %.2f%%\"%(test_scores[1] * 100))"
   ]
  },
  {
   "cell_type": "code",
   "execution_count": 15,
   "id": "bcfe6f62",
   "metadata": {
    "execution": {
     "iopub.execute_input": "2021-12-10T23:55:07.535911Z",
     "iopub.status.busy": "2021-12-10T23:55:07.533081Z",
     "iopub.status.idle": "2021-12-10T23:55:08.024296Z",
     "shell.execute_reply": "2021-12-10T23:55:08.024682Z",
     "shell.execute_reply.started": "2021-12-10T21:15:57.282138Z"
    },
    "papermill": {
     "duration": 1.973593,
     "end_time": "2021-12-10T23:55:08.024854",
     "exception": false,
     "start_time": "2021-12-10T23:55:06.051261",
     "status": "completed"
    },
    "tags": []
   },
   "outputs": [
    {
     "data": {
      "image/png": "[encoded data removed]",
      "text/plain": [
       "<Figure size 432x288 with 1 Axes>"
      ]
     },
     "metadata": {
      "needs_background": "light"
     },
     "output_type": "display_data"
    },
    {
     "data": {
      "image/png": "[encoded data removed]",
      "text/plain": [
       "<Figure size 432x288 with 1 Axes>"
      ]
     },
     "metadata": {
      "needs_background": "light"
     },
     "output_type": "display_data"
    }
   ],
   "source": [
    "plot_loss_curves(history)"
   ]
  },
  {
   "cell_type": "code",
   "execution_count": 16,
   "id": "eb166dc6",
   "metadata": {
    "execution": {
     "iopub.execute_input": "2021-12-10T23:55:10.976628Z",
     "iopub.status.busy": "2021-12-10T23:55:10.975438Z",
     "iopub.status.idle": "2021-12-10T23:55:11.818472Z",
     "shell.execute_reply": "2021-12-10T23:55:11.817990Z",
     "shell.execute_reply.started": "2021-12-10T21:15:57.789299Z"
    },
    "papermill": {
     "duration": 2.324417,
     "end_time": "2021-12-10T23:55:11.818619",
     "exception": false,
     "start_time": "2021-12-10T23:55:09.494202",
     "status": "completed"
    },
    "tags": []
   },
   "outputs": [
    {
     "name": "stdout",
     "output_type": "stream",
     "text": [
      "[1 1 0 0 1 0 1 0 0 1 0 1 1 0 0 0 0 0 0 0 0 0 1 0 1 0 0 0 1 0 0 0 1 0 1 1 0\n",
      " 1 1 1 0 0 1 1 1 1 1 0 1 1 1 1 0 0 0 0 0 1 1 1 0 0 1 0 1 1 0 1 1 0 0 1 0 1\n",
      " 1 0 1 0 0 0 1 0 1 0 1 0 1 0 1 1 1 1 0 0 0 0 1 0 1 0 0 0 0 1 1 0 0 1 0 0 0\n",
      " 0 1 1 0 0 1 0 0 1 0 0 0 1 1 1 0 1 1 1 1 0 0 1 0 0 1 0 0 0 0 0 1 1 1 1 1 0\n",
      " 1 1 1 0 0 1 1 1 0 0 0 1 1 0 0 0 0 1]\n",
      "[[79 10]\n",
      " [13 64]]\n"
     ]
    },
    {
     "data": {
      "text/plain": [
       "<AxesSubplot:>"
      ]
     },
     "execution_count": 16,
     "metadata": {},
     "output_type": "execute_result"
    },
    {
     "data": {
      "image/png": "[encoded data removed]",
      "text/plain": [
       "<Figure size 432x288 with 2 Axes>"
      ]
     },
     "metadata": {
      "needs_background": "light"
     },
     "output_type": "display_data"
    }
   ],
   "source": [
    "from sklearn.metrics import confusion_matrix\n",
    "import seaborn as sns\n",
    "prediction_unet = model_2.predict(X_test)\n",
    "prediction_unet = np.argmax(prediction_unet, axis=-1)\n",
    "Y_labels = np.argmax(Y_test, axis=-1)\n",
    "print(Y_labels)\n",
    "cm = confusion_matrix(Y_labels, prediction_unet)\n",
    "print(cm)\n",
    "sns.heatmap(cm, annot=True)"
   ]
  }
 ],
 "metadata": {
  "kernelspec": {
   "display_name": "Python 3",
   "language": "python",
   "name": "python3"
  },
  "language_info": {
   "codemirror_mode": {
    "name": "ipython",
    "version": 3
   },
   "file_extension": ".py",
   "mimetype": "text/x-python",
   "name": "python",
   "nbconvert_exporter": "python",
   "pygments_lexer": "ipython3",
   "version": "3.7.10"
  },
  "papermill": {
   "default_parameters": {},
   "duration": 660.954495,
   "end_time": "2021-12-10T23:55:16.608963",
   "environment_variables": {},
   "exception": null,
   "input_path": "__notebook__.ipynb",
   "output_path": "__notebook__.ipynb",
   "parameters": {},
   "start_time": "2021-12-10T23:44:15.654468",
   "version": "2.3.3"
  }
 },
 "nbformat": 4,
 "nbformat_minor": 5
}
