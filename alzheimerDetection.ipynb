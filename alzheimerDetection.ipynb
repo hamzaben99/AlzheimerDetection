{
 "cells": [
  {
   "cell_type": "code",
   "execution_count": 1,
   "metadata": {},
   "outputs": [],
   "source": [
    "import os\n",
    "import numpy as np\n",
    "from nibabel.testing import data_path\n",
    "import nibabel as nib\n",
    "from pathlib import Path\n",
    "\n",
    "path = str(Path().resolve())\n",
    "path = path + \"\\\\ADNI_PROCESSED\"\n",
    "\n",
    "def apply_mask(img_n_mmni, img_mask):\n",
    "    \"\"\"\n",
    "        Taking a n_mmni and apply the correspondant mask\n",
    "        param:\n",
    "            img_n_mmi   : image n_mmi\n",
    "            img_mask    : mask\n",
    "    \"\"\"\n",
    "    mmni_m = img_n_mmni.get_fdata()\n",
    "    mask_m = img_mask.get_fdata().astype(bool)\n",
    "    mask_bg = np.logical_not(mask_m)\n",
    "    mmni_m[mask_bg] = 0\n",
    "    return mmni_m\n",
    "\n",
    "def process_irm_data():\n",
    "    \"\"\"\n",
    "        Create a new directory and process all images from tha ADNI1 directory\n",
    "    \"\"\"\n",
    "    path = str(Path().resolve())\n",
    "    path_res = path + \"\\\\ADNI_PROCESSED\"\n",
    "    Path(path_res).mkdir(parents=True, exist_ok=True) # Create a directory for data processed\n",
    "    path = path + \"\\\\ADNI1\"\n",
    "    for filename in os.listdir(path):\n",
    "        if filename.startswith(\"n_mmni\"):\n",
    "            n_mmni_filename = os.path.join(path, filename)\n",
    "            mask_filename = os.path.join(path, \"mask_\" + filename)\n",
    "            img_n_mmni = nib.load(n_mmni_filename)\n",
    "            img_mask = nib.load(mask_filename)\n",
    "            n_mmni_mask = apply_mask(img_n_mmni, img_mask)\n",
    "            img = nib.Nifti1Image(n_mmni_mask, np.eye(4))\n",
    "            nib.save(img, os.path.join(path_res, filename))\n",
    "\n",
    "# process_irm_data()"
   ]
  },
  {
   "cell_type": "code",
   "execution_count": 2,
   "metadata": {},
   "outputs": [],
   "source": [
    "def load_processed_data(path):\n",
    "    \"\"\"\n",
    "        load all n_mmni found in the path\n",
    "    \"\"\"\n",
    "    if not os.path.isdir(path):\n",
    "        print(\"Can't found directory: \" + path)\n",
    "    else:\n",
    "        list_x = []\n",
    "        for filename in os.listdir(path):\n",
    "            n_mmni_filename = os.path.join(path, filename)\n",
    "            img_n_mmni = nib.load(n_mmni_filename)\n",
    "            mmni_matrix = img_n_mmni.get_fdata()\n",
    "            list_x.append((filename, mmni_matrix))\n",
    "        return list_x"
   ]
  },
  {
   "cell_type": "code",
   "execution_count": 3,
   "metadata": {},
   "outputs": [
    {
     "name": "stdout",
     "output_type": "stream",
     "text": [
      "(181, 181, 1)\n"
     ]
    }
   ],
   "source": [
    "def cut_2D_i(img_n_mmni, axe, idx):\n",
    "    \"\"\"\n",
    "        Function that returns a 2D cut from the \"img\" in the index \"idx\", along the axe given in parameter\n",
    "    \"\"\"\n",
    "    axe_dim = {\"x\": img_n_mmni.shape[0], \"y\": img_n_mmni.shape[1], \"z\":img_n_mmni.shape[2]}\n",
    "    if axe_dim[axe] <= idx or idx < 0:\n",
    "        print(\"Invalid value for index must be between 0 and \" , axe_dim[axe])\n",
    "        return\n",
    "    if axe == \"x\":\n",
    "        cropped_img = img_n_mmni.slicer[idx:idx+1, 18:199, :]\n",
    "        img_data = cropped_img.get_fdata()\n",
    "        img_data = np.transpose(img_data, (2, 1, 0)) / 255.0\n",
    "        img_data = np.transpose(img_data, (1, 0, 2)) / 255.0\n",
    "    elif axe == \"y\":\n",
    "        cropped_img = img_n_mmni.slicer[45:145, idx:idx+1,35:135] #eliminate black borders\n",
    "        img_data = cropped_img.get_fdata()\n",
    "        img_data = np.transpose(img_data, (0, 2, 1)) / 255.0\n",
    "    elif axe == \"z\":\n",
    "        cropped_img = img_n_mmni.slicer[:, 18:199, idx:idx+1]\n",
    "        img_data = cropped_img.get_fdata()\n",
    "    else:\n",
    "        print(\"Choose a valid value for axe: x, y or z\")\n",
    "\n",
    "    return img_data\n",
    "\n",
    "def custom_patch_3D(img_n_mmni, x_tup, y_tup, z_tup):\n",
    "    axe_dim = {\"x\": img_n_mmni.shape[0], \"y\": img_n_mmni.shape[1], \"z\":img_n_mmni.shape[2]}\n",
    "    if axe_dim[\"x\"] <= x_tup[1] or x_tup[0] < 0 or axe_dim[\"y\"] <= y_tup[1] or y_tup[0] < 0 or axe_dim[\"z\"] <= z_tup[1] or z_tup[0] < 0 :\n",
    "        print(\"Invalid values\")\n",
    "        return \n",
    "    else:\n",
    "        cropped_img = img_n_mmni.slicer[x_tup[0]:x_tup[1], y_tup[0]:y_tup[1], z_tup[0]:z_tup[1]]\n",
    "        img_data = cropped_img.get_fdata()\n",
    "        img_data.resize(img_data.shape + (1, ))\n",
    "        return img_data\n",
    "\n",
    "# To test thid function\n",
    "n_mmni_filename = os.path.join(path, \"n_mmni_fADNI_002_S_0295_1.5T_t1w.nii.gz\")\n",
    "img_n_mmni = nib.load(n_mmni_filename)\n",
    "data_img = cut_2D_i(img_n_mmni, \"x\", 95)\n",
    "print(data_img.shape)\n",
    "crop_img = nib.Nifti1Image(data_img, np.eye(4))\n",
    "nib.save(crop_img, 'test_img.nii')"
   ]
  },
  {
   "cell_type": "code",
   "execution_count": 4,
   "metadata": {},
   "outputs": [],
   "source": [
    "## NOT USED\n",
    "def load_X_data(path):\n",
    "    if not os.path.isdir(path):\n",
    "        print(\"Can't found directory: \" + path)\n",
    "    else:\n",
    "        list_x = []\n",
    "        for filename in os.listdir(path):\n",
    "            n_mmni_filename = os.path.join(path, filename)\n",
    "            img_n_mmni = nib.load(n_mmni_filename)\n",
    "            # Customize your choice: taking a 2D cuts or 3D patches\n",
    "            cropped_img = cut_2D_i(img_n_mmni, \"y\", 106)\n",
    "            cropped_n_mmni_matrix = cropped_img.get_fdata()\n",
    "            list_x.append((filename, cropped_n_mmni_matrix))\n",
    "        return list_x\n",
    "\n",
    "# X_data = load_X_data(path)"
   ]
  },
  {
   "cell_type": "code",
   "execution_count": 4,
   "metadata": {},
   "outputs": [
    {
     "data": {
      "text/html": [
       "<div>\n",
       "<style scoped>\n",
       "    .dataframe tbody tr th:only-of-type {\n",
       "        vertical-align: middle;\n",
       "    }\n",
       "\n",
       "    .dataframe tbody tr th {\n",
       "        vertical-align: top;\n",
       "    }\n",
       "\n",
       "    .dataframe thead th {\n",
       "        text-align: right;\n",
       "    }\n",
       "</style>\n",
       "<table border=\"1\" class=\"dataframe\">\n",
       "  <thead>\n",
       "    <tr style=\"text-align: right;\">\n",
       "      <th></th>\n",
       "      <th>Rooster ID</th>\n",
       "      <th>Group</th>\n",
       "    </tr>\n",
       "    <tr>\n",
       "      <th>Subject ID</th>\n",
       "      <th></th>\n",
       "      <th></th>\n",
       "    </tr>\n",
       "  </thead>\n",
       "  <tbody>\n",
       "    <tr>\n",
       "      <th>002_S_0295</th>\n",
       "      <td>295</td>\n",
       "      <td>CN</td>\n",
       "    </tr>\n",
       "    <tr>\n",
       "      <th>002_S_0413</th>\n",
       "      <td>413</td>\n",
       "      <td>CN</td>\n",
       "    </tr>\n",
       "    <tr>\n",
       "      <th>002_S_0559</th>\n",
       "      <td>559</td>\n",
       "      <td>CN</td>\n",
       "    </tr>\n",
       "    <tr>\n",
       "      <th>002_S_0619</th>\n",
       "      <td>619</td>\n",
       "      <td>AD</td>\n",
       "    </tr>\n",
       "    <tr>\n",
       "      <th>002_S_0685</th>\n",
       "      <td>685</td>\n",
       "      <td>CN</td>\n",
       "    </tr>\n",
       "    <tr>\n",
       "      <th>002_S_0816</th>\n",
       "      <td>816</td>\n",
       "      <td>AD</td>\n",
       "    </tr>\n",
       "    <tr>\n",
       "      <th>002_S_0938</th>\n",
       "      <td>938</td>\n",
       "      <td>AD</td>\n",
       "    </tr>\n",
       "  </tbody>\n",
       "</table>\n",
       "</div>"
      ],
      "text/plain": [
       "            Rooster ID Group\n",
       "Subject ID                  \n",
       "002_S_0295         295    CN\n",
       "002_S_0413         413    CN\n",
       "002_S_0559         559    CN\n",
       "002_S_0619         619    AD\n",
       "002_S_0685         685    CN\n",
       "002_S_0816         816    AD\n",
       "002_S_0938         938    AD"
      ]
     },
     "execution_count": 4,
     "metadata": {},
     "output_type": "execute_result"
    }
   ],
   "source": [
    "import os\n",
    "import re\n",
    "from pathlib import Path\n",
    "import pandas as pd\n",
    "from sklearn.preprocessing import OrdinalEncoder\n",
    "from sklearn.model_selection import train_test_split\n",
    "\n",
    "def load_data(path):\n",
    "    data = pd.read_csv(path, names= ['Subject ID', 'Rooster ID', 'Age', 'Sexe', 'Group', 'Conversion', 'MMSE', 'RAVLT', 'FAQ', 'CDR-SB', 'ADAS11'], usecols = ['Subject ID', 'Rooster ID', 'Group'])\n",
    "    data.index = data['Subject ID']\n",
    "    data = data.drop(['Subject ID'], axis=1)\n",
    "    data = data[(data.Group == 'CN') | (data.Group == 'AD')]\n",
    "    return data\n",
    "\n",
    "path = str(Path().resolve())\n",
    "path = path + \"/ADNI1/list_standardized_tongtong_2017.csv\"\n",
    "y_data = load_data(path)\n",
    "y_data.head(7)"
   ]
  },
  {
   "cell_type": "code",
   "execution_count": 5,
   "metadata": {},
   "outputs": [
    {
     "name": "stdout",
     "output_type": "stream",
     "text": [
      "True\n"
     ]
    }
   ],
   "source": [
    "from tensorflow.keras.utils import to_categorical\n",
    "\n",
    "usecols = ['Subject ID', 'Rooster ID', 'Group']\n",
    "# ['CN', 'AD']\n",
    "def prepare_X_of_Y(Y):\n",
    "    X_data = []\n",
    "    Y_data = []\n",
    "    X_test_index = []\n",
    "    Y_test = []\n",
    "    path = str(Path().resolve())\n",
    "    path += \"\\\\ADNI_PROCESSED\"\n",
    "    n_test_AD = 0\n",
    "    n_test_CN = 0\n",
    "    for index, row in Y.iterrows():\n",
    "        file = path + '\\\\n_mmni_fADNI_' + index + '_1.5T_t1w.nii.gz'\n",
    "        if os.path.isfile(file):\n",
    "            img_n_mmni = nib.load(file)\n",
    "            # Taking 4 images for test purpose\n",
    "            if (Y['Group'][index] == 'AD' and n_test_AD < 2) or (Y['Group'][index] == 'CN' and n_test_CN < 2):\n",
    "                n_test_AD += 1 if Y['Group'][index] == 'AD' else n_test_AD\n",
    "                n_test_CN += 1 if Y['Group'][index] == 'CN' else n_test_CN\n",
    "                X_test_index.append(index)\n",
    "            else:\n",
    "                for i in range(100, 112):\n",
    "                    img_data = cut_2D_i(img_n_mmni, 'y', i)\n",
    "                    X_data.append(img_data)\n",
    "                    if Y['Group'][index] == 'AD':\n",
    "                        Y_data.append(1)\n",
    "                    elif Y['Group'][index] == 'CN':\n",
    "                        Y_data.append(0)\n",
    "        else:\n",
    "            Y.drop(index, inplace=True)\n",
    "    return np.array(X_data), Y_data, X_test_index\n",
    "\n",
    "if os.path.isfile('X_data.npy') and os.path.isfile('Y_data.npy') and os.path.isfile('X_test_index.npy'):\n",
    "    X_data = np.load('X_data.npy')\n",
    "    Y_data = np.load('Y_data.npy')\n",
    "    X_test_index = np.load('X_test_index.npy')\n",
    "else:\n",
    "    X_data, Y_data_list, X_test_index = prepare_X_of_Y(y_data)\n",
    "    Y_data = to_categorical(Y_data_list, num_classes=2)\n",
    "    np.save('X_data', X_data)\n",
    "    np.save('Y_data', Y_data)\n",
    "    np.save('X_test_index', X_test_index)\n",
    "    \n",
    "print(len(X_data) == len(Y_data))"
   ]
  },
  {
   "cell_type": "code",
   "execution_count": 5,
   "metadata": {},
   "outputs": [
    {
     "name": "stdout",
     "output_type": "stream",
     "text": [
      "True\n"
     ]
    }
   ],
   "source": [
    "from tensorflow.keras.utils import to_categorical\n",
    "\n",
    "usecols = ['Subject ID', 'Rooster ID', 'Group']\n",
    "# ['CN', 'AD']\n",
    "def prepare_X_of_Y_3D(Y):\n",
    "    X_data = []\n",
    "    Y_data = []\n",
    "    X_test_index = []\n",
    "    Y_test = []\n",
    "    path = str(Path().resolve())\n",
    "    path += \"\\\\ADNI_PROCESSED\"\n",
    "    n_test_AD = 0\n",
    "    n_test_CN = 0\n",
    "    for index, row in Y.iterrows():\n",
    "        file = path + '\\\\n_mmni_fADNI_' + index + '_1.5T_t1w.nii.gz'\n",
    "        if os.path.isfile(file):\n",
    "            img_n_mmni = nib.load(file)\n",
    "            # Taking 4 images for test purpose\n",
    "            if (Y['Group'][index] == 'AD' and n_test_AD < 2) or (Y['Group'][index] == 'CN' and n_test_CN < 2):\n",
    "                n_test_AD += 1 if Y['Group'][index] == 'AD' else n_test_AD\n",
    "                n_test_CN += 1 if Y['Group'][index] == 'CN' else n_test_CN\n",
    "                X_test_index.append(index)\n",
    "            else:\n",
    "                img_data = custom_patch_3D(img_n_mmni, x_tup=(40, 140), y_tup=(90, 110), z_tup=(35, 135))\n",
    "                X_data.append(img_data)\n",
    "                if Y['Group'][index] == 'AD':\n",
    "                    Y_data.append(1)\n",
    "                elif Y['Group'][index] == 'CN':\n",
    "                    Y_data.append(0)\n",
    "        else:\n",
    "            Y.drop(index, inplace=True)\n",
    "    return np.array(X_data), Y_data, X_test_index\n",
    "\n",
    "if os.path.isfile('X_data_3D.npy') and os.path.isfile('Y_data_3D.npy') and os.path.isfile('X_test_index_3D.npy'):\n",
    "    X_data_3D = np.load('X_data_3D.npy')\n",
    "    Y_data_3D = np.load('Y_data_3D.npy')\n",
    "    X_test_index_3D = np.load('X_test_index_3D.npy')\n",
    "else:\n",
    "    X_data_3D, Y_data_list_3D, X_test_index_3D = prepare_X_of_Y_3D(y_data)\n",
    "    Y_data_3D = to_categorical(Y_data_list_3D, num_classes=2)\n",
    "    np.save('X_data_3D', X_data_3D)\n",
    "    np.save('Y_data_3D', Y_data_3D)\n",
    "    np.save('X_test_index_3D', X_test_index_3D)\n",
    "    \n",
    "print(len(X_data_3D) == len(Y_data_3D))"
   ]
  },
  {
   "cell_type": "code",
   "execution_count": 6,
   "metadata": {},
   "outputs": [
    {
     "name": "stdout",
     "output_type": "stream",
     "text": [
      "{0: 'CN', 1: 'AD'}\n"
     ]
    },
    {
     "name": "stderr",
     "output_type": "stream",
     "text": [
      "c:\\python39\\lib\\site-packages\\seaborn\\_decorators.py:36: FutureWarning: Pass the following variable as a keyword arg: x. From version 0.12, the only valid positional argument will be `data`, and passing other arguments without an explicit keyword will result in an error or misinterpretation.\n",
      "  warnings.warn(\n"
     ]
    },
    {
     "data": {
      "image/png": "[encoded data removed]",
      "text/plain": [
       "<Figure size 432x288 with 1 Axes>"
      ]
     },
     "metadata": {
      "needs_background": "light"
     },
     "output_type": "display_data"
    }
   ],
   "source": [
    "map_characters = {0: 'CN', 1: 'AD'}\n",
    "dict_characters=map_characters\n",
    "import seaborn as sns\n",
    "df = pd.DataFrame()\n",
    "df[\"labels\"] = Y_data_list_3D\n",
    "lab = df['labels']\n",
    "dist = lab.value_counts()\n",
    "sns.countplot(lab)\n",
    "print(dict_characters)"
   ]
  },
  {
   "cell_type": "markdown",
   "metadata": {},
   "source": [
    "## Loss visualization function\n",
    "This function is used to visualize the variations of loss, val_loss, accuracy and val_accuracy over epochs. It is used for 3D and 2D models. "
   ]
  },
  {
   "cell_type": "code",
   "execution_count": null,
   "metadata": {},
   "outputs": [],
   "source": [
    "import matplotlib.pyplot as plt\n",
    "\n",
    "# Plot the validation and training data separately\n",
    "def plot_loss_curves(history):\n",
    "      \"\"\"\n",
    "      Returns separate loss curves for training and validation metrics.\n",
    "      \"\"\" \n",
    "      loss = history.history['loss']\n",
    "      val_loss = history.history['val_loss']\n",
    "\n",
    "      accuracy = history.history['accuracy']\n",
    "      val_accuracy = history.history['val_accuracy']\n",
    "\n",
    "      epochs = range(len(history.history['loss']))\n",
    "\n",
    "      # Plot loss\n",
    "      plt.plot(epochs, loss, label='training_loss')\n",
    "      plt.plot(epochs, val_loss, label='val_loss')\n",
    "      plt.title('Loss')\n",
    "      plt.xlabel('Epochs')\n",
    "      plt.legend()\n",
    "\n",
    "      # Plot accuracy\n",
    "      plt.figure()\n",
    "      plt.plot(epochs, accuracy, label='training_accuracy')\n",
    "      plt.plot(epochs, val_accuracy, label='val_accuracy')\n",
    "      plt.title('Accuracy')\n",
    "      plt.xlabel('Epochs')\n",
    "      plt.legend()"
   ]
  },
  {
   "cell_type": "markdown",
   "metadata": {},
   "source": [
    "# U-Net Neural Network\n",
    "\n",
    "Creation of two U-Net models:\n",
    "* One for 2D inputs, in case we slice the input into 2D images.\n",
    "* The other for 3D inputs, in case we use 3D blocs of the image."
   ]
  },
  {
   "cell_type": "markdown",
   "metadata": {},
   "source": [
    "### 2D implementation of classification model\n",
    "- Creation of an auto-encoder model and an only encoder model.\n",
    "- compilation of the model using adam optimizer, and binary_crossentropy loss.\n",
    "- fiting the model using GPU if it exists."
   ]
  },
  {
   "cell_type": "code",
   "execution_count": 7,
   "metadata": {},
   "outputs": [],
   "source": [
    "from tensorflow.keras.layers import Conv2D, SeparableConv2D, MaxPooling2D, UpSampling2D, Cropping2D, Conv3D, MaxPooling3D, UpSampling3D, Cropping3D, Input, concatenate, Flatten, Dense, Dropout, BatchNormalization, Activation, BatchNormalization, GlobalAveragePooling2D, GlobalAveragePooling3D\n",
    "from tensorflow.keras.models import Model\n",
    "from tensorflow.keras.regularizers import l2\n",
    "\n",
    "def create_Unet_model2D(input_size, depth=5, padding='valid'):\n",
    "    inputs = Input(shape=input_size)\n",
    "    x = inputs\n",
    "    num_filters = 64\n",
    "    encode_layers_list = []\n",
    "    for i in range(depth):\n",
    "        x = Conv2D(filters=num_filters, kernel_size=(3,3), padding=padding, activation='relu')(x)\n",
    "        x = Conv2D(filters=num_filters, kernel_size=(3,3), padding=padding, activation='relu')(x)\n",
    "        if i != depth - 1:\n",
    "            encode_layers_list.append(x)\n",
    "            x = MaxPooling2D(pool_size=(2,2), strides=2)(x)\n",
    "            num_filters *= 2\n",
    "    \n",
    "    for i in range(depth - 1):\n",
    "        x = UpSampling2D()(x)\n",
    "        x = Conv2D(filters=num_filters, kernel_size=(2,2), padding='same', activation='relu')(x)\n",
    "        #cropping\n",
    "        encoder_shape = encode_layers_list[depth - 2 - i].shape\n",
    "        decoder_shape = x.shape\n",
    "        shape_diff = (encoder_shape[1] - decoder_shape[1], encoder_shape[2] - decoder_shape[2])\n",
    "        xshape_diff = shape_diff[0] // 2\n",
    "        yshape_diff = shape_diff[1] // 2\n",
    "        if shape_diff[0] % 2 != 0:\n",
    "            xshape_diff = (shape_diff[0] // 2, shape_diff[0] // 2 + 1)\n",
    "        if shape_diff[1] % 2 != 0:\n",
    "            yshape_diff = (shape_diff[1] // 2, shape_diff[1] // 2 + 1)\n",
    "        croped_layer = Cropping2D(cropping=(xshape_diff, yshape_diff))(encode_layers_list[depth - 2 - i])\n",
    "        \n",
    "        x = concatenate([croped_layer, x])\n",
    "        num_filters /= 2\n",
    "        x = Conv2D(filters=num_filters, kernel_size=(3,3), padding=padding, activation='relu')(x)\n",
    "        x = Conv2D(filters=num_filters, kernel_size=(3,3), padding=padding, activation='relu')(x)\n",
    "\n",
    "    outputs = Conv2D(filters=2, padding=padding, kernel_size=(1,1))(x)\n",
    "        \n",
    "    return Model(inputs, outputs)\n",
    "\n",
    "def create_Unet_model2D_encoder(input_size, depth=5, padding='valid', nb_class=2):\n",
    "    inputs = Input(shape=input_size)\n",
    "    x = inputs\n",
    "    num_filters = 64\n",
    "    for i in range(depth):\n",
    "        x = SeparableConv2D(filters=num_filters, kernel_size=(3,3), padding=padding)(x)\n",
    "        x = BatchNormalization()(x)\n",
    "        x = Activation('relu')(x)\n",
    "        \n",
    "        x = SeparableConv2D(filters=num_filters, kernel_size=(3,3), padding=padding)(x)\n",
    "        x = BatchNormalization()(x)\n",
    "        x = Activation('relu')(x)\n",
    "        if i != depth - 1:\n",
    "            x = MaxPooling2D(pool_size=(2,2), strides=2)(x)\n",
    "            num_filters *= 2\n",
    "\n",
    "    # Flattenting\n",
    "    x = GlobalAveragePooling2D()(x)\n",
    "    \n",
    "    x = Dropout(0.5)(x)\n",
    "    outputs = Dense(nb_class, activation='sigmoid')(x)\n",
    "\n",
    "    return Model(inputs, outputs)"
   ]
  },
  {
   "cell_type": "code",
   "execution_count": null,
   "metadata": {},
   "outputs": [],
   "source": [
    "from tensorflow.keras.optimizers import Adam\n",
    "\n",
    "model_2 = create_Unet_model2D_encoder(X_data[0].shape, depth=4)\n",
    "# model_2.compile(optimizer='adam', loss='squared_hinge', metrics=['accuracy'])\n",
    "model_2.compile(optimizer=Adam(1e-4), loss='binary_crossentropy', metrics=['accuracy'])\n",
    "model_2.summary()"
   ]
  },
  {
   "cell_type": "code",
   "execution_count": null,
   "metadata": {},
   "outputs": [],
   "source": [
    "import tensorflow as tf\n",
    "y = np.array([y[1] for y in Y_data])\n",
    "x = np.array([tf.image.grayscale_to_rgb(tf.convert_to_tensor(img), name=None) for img in X_data])"
   ]
  },
  {
   "cell_type": "code",
   "execution_count": null,
   "metadata": {},
   "outputs": [],
   "source": [
    "from sklearn.model_selection import train_test_split\n",
    "\n",
    "X_train, X_val, Y_train, Y_val = train_test_split(X_data, Y_data, test_size=0.25,random_state=42)\n",
    "print(\"Data splited\")"
   ]
  },
  {
   "cell_type": "code",
   "execution_count": null,
   "metadata": {},
   "outputs": [],
   "source": [
    "import matplotlib.pyplot as plt\n",
    "def show_batch(image_batch, label_X):\n",
    "    plt.figure(figsize=(10,10))\n",
    "    for n in range(25):\n",
    "        ax = plt.subplot(5,5,n+1)\n",
    "        plt.imshow(image_batch[n])\n",
    "        if label_X[n]:\n",
    "            plt.title(\"AD\")\n",
    "        else:\n",
    "            plt.title(\"CN\")\n",
    "        plt.axis(\"off\")\n",
    "show_batch(X_val, Y_val)"
   ]
  },
  {
   "cell_type": "code",
   "execution_count": 8,
   "metadata": {},
   "outputs": [
    {
     "name": "stdout",
     "output_type": "stream",
     "text": [
      "[PhysicalDevice(name='/physical_device:CPU:0', device_type='CPU'), PhysicalDevice(name='/physical_device:GPU:0', device_type='GPU')]\n"
     ]
    }
   ],
   "source": [
    "import tensorflow as tf\n",
    "physical_devices = tf.config.list_physical_devices()\n",
    "print(physical_devices)"
   ]
  },
  {
   "cell_type": "code",
   "execution_count": null,
   "metadata": {},
   "outputs": [],
   "source": [
    "history = model_2.fit(X_train, Y_train, epochs= 50, validation_data=(X_val, Y_val))"
   ]
  },
  {
   "cell_type": "code",
   "execution_count": null,
   "metadata": {},
   "outputs": [],
   "source": [
    "plot_loss_curves(history)"
   ]
  },
  {
   "cell_type": "code",
   "execution_count": null,
   "metadata": {},
   "outputs": [],
   "source": [
    "model_2.save('model_2D')"
   ]
  },
  {
   "cell_type": "markdown",
   "metadata": {},
   "source": [
    "### 3D implementation of classification model\n",
    "- Creation of an auto-encoder model and an only encoder model.\n",
    "- compilation of the model using adam optimizer, and binary_crossentropy loss.\n",
    "- fiting the model using GPU if it exists."
   ]
  },
  {
   "cell_type": "code",
   "execution_count": null,
   "metadata": {},
   "outputs": [],
   "source": [
    "def create_Unet_model3D(input_size, depth=5, padding='valid'):\n",
    "    inputs = Input(shape=input_size)\n",
    "    x = inputs\n",
    "    num_filters = 64\n",
    "    encode_layers_list = []\n",
    "    for i in range(depth):\n",
    "        x = Conv3D(filters=num_filters, kernel_size=(3,3,3), padding=padding, activation='relu')(x)\n",
    "        x = Conv3D(filters=num_filters, kernel_size=(3,3,3), padding=padding, activation='relu')(x)\n",
    "        if i != depth - 1:\n",
    "            encode_layers_list.append(x)\n",
    "            x = MaxPooling3D(pool_size=(2,2,2), strides=2)(x)\n",
    "            num_filters *= 2\n",
    "    \n",
    "\n",
    "    for i in range(depth - 1):\n",
    "        x = UpSampling3D()(x)\n",
    "        x = Conv3D(filters=num_filters, kernel_size=(2,2,2), activation='relu', padding='same')(x)\n",
    "        #cropping\n",
    "        encoder_shape = encode_layers_list[depth - 2 - i].shape\n",
    "        decoder_shape = x.shape\n",
    "        shape_diff = (encoder_shape[1] - decoder_shape[1], encoder_shape[2] - decoder_shape[2], encoder_shape[3] - decoder_shape[3])\n",
    "        xshape_diff = shape_diff[0] // 2\n",
    "        yshape_diff = shape_diff[1] // 2\n",
    "        zshape_diff = shape_diff[2] // 2\n",
    "        if shape_diff[0] % 2 != 0:\n",
    "            xshape_diff = (shape_diff[0] // 2, shape_diff[0] // 2 + 1)\n",
    "        if shape_diff[1] % 2 != 0:\n",
    "            yshape_diff = (shape_diff[1] // 2, shape_diff[1] // 2 + 1)\n",
    "        if shape_diff[2] % 2 != 0:\n",
    "            zshape_diff = (shape_diff[2] // 2, shape_diff[2] // 2 + 1)\n",
    "        croped_layer = Cropping3D(cropping=(xshape_diff, yshape_diff, zshape_diff))(encode_layers_list[depth - 2 - i])\n",
    "\n",
    "        x = concatenate([croped_layer, x])\n",
    "        num_filters /= 2\n",
    "        x = Conv3D(filters=num_filters, kernel_size=(3,3,3), padding=padding, activation='relu')(x)\n",
    "        x = Conv3D(filters=num_filters, kernel_size=(3,3,3), padding=padding, activation='relu')(x)\n",
    "\n",
    "    outputs = Conv3D(filters=2, kernel_size=(1,1,1))(x)\n",
    "        \n",
    "    return Model(inputs, outputs)\n",
    "\n",
    "def create_Unet_model3D_encoder(input_size, depth=5, padding='valid', nb_class=2):\n",
    "    inputs = Input(shape=input_size)\n",
    "    x = inputs\n",
    "    num_filters = 64\n",
    "    for i in range(depth):\n",
    "        x = Conv3D(filters=num_filters, kernel_size=(3,3,3), padding=padding)(x)\n",
    "        x = BatchNormalization()(x)\n",
    "        x = Activation('relu')(x)\n",
    "        x = Conv3D(filters=num_filters, kernel_size=(3,3,3), padding=padding)(x)\n",
    "        x = BatchNormalization()(x)\n",
    "        x = Activation('relu')(x)\n",
    "        if i != depth - 1:\n",
    "            x = MaxPooling3D(pool_size=(2,2,2), strides=2)(x)\n",
    "            num_filters *= 2\n",
    "    \n",
    "    x = GlobalAveragePooling3D()(x)\n",
    "\n",
    "    x = Dropout(0.5)(x)\n",
    "    outputs = Dense(nb_class, activation='sigmoid')(x)\n",
    "\n",
    "    return Model(inputs, outputs)"
   ]
  },
  {
   "cell_type": "code",
   "execution_count": 10,
   "metadata": {},
   "outputs": [
    {
     "name": "stdout",
     "output_type": "stream",
     "text": [
      "Model: \"model\"\n",
      "_________________________________________________________________\n",
      " Layer (type)                Output Shape              Param #   \n",
      "=================================================================\n",
      " input_2 (InputLayer)        [(None, 100, 20, 100, 1)  0         \n",
      "                             ]                                   \n",
      "                                                                 \n",
      " conv3d_5 (Conv3D)           (None, 98, 18, 98, 64)    1792      \n",
      "                                                                 \n",
      " batch_normalization_4 (Batc  (None, 98, 18, 98, 64)   256       \n",
      " hNormalization)                                                 \n",
      "                                                                 \n",
      " activation_4 (Activation)   (None, 98, 18, 98, 64)    0         \n",
      "                                                                 \n",
      " conv3d_6 (Conv3D)           (None, 96, 16, 96, 64)    110656    \n",
      "                                                                 \n",
      " batch_normalization_5 (Batc  (None, 96, 16, 96, 64)   256       \n",
      " hNormalization)                                                 \n",
      "                                                                 \n",
      " activation_5 (Activation)   (None, 96, 16, 96, 64)    0         \n",
      "                                                                 \n",
      " max_pooling3d_2 (MaxPooling  (None, 48, 8, 48, 64)    0         \n",
      " 3D)                                                             \n",
      "                                                                 \n",
      " conv3d_7 (Conv3D)           (None, 46, 6, 46, 128)    221312    \n",
      "                                                                 \n",
      " batch_normalization_6 (Batc  (None, 46, 6, 46, 128)   512       \n",
      " hNormalization)                                                 \n",
      "                                                                 \n",
      " activation_6 (Activation)   (None, 46, 6, 46, 128)    0         \n",
      "                                                                 \n",
      " conv3d_8 (Conv3D)           (None, 44, 4, 44, 128)    442496    \n",
      "                                                                 \n",
      " batch_normalization_7 (Batc  (None, 44, 4, 44, 128)   512       \n",
      " hNormalization)                                                 \n",
      "                                                                 \n",
      " activation_7 (Activation)   (None, 44, 4, 44, 128)    0         \n",
      "                                                                 \n",
      " global_average_pooling3d (G  (None, 128)              0         \n",
      " lobalAveragePooling3D)                                          \n",
      "                                                                 \n",
      " dropout (Dropout)           (None, 128)               0         \n",
      "                                                                 \n",
      " dense (Dense)               (None, 2)                 258       \n",
      "                                                                 \n",
      "=================================================================\n",
      "Total params: 778,050\n",
      "Trainable params: 777,282\n",
      "Non-trainable params: 768\n",
      "_________________________________________________________________\n"
     ]
    }
   ],
   "source": [
    "model_3 = create_Unet_model3D_encoder(X_data_3D[0].shape, depth=2)\n",
    "# model_2.compile(optimizer='adam', loss='squared_hinge', metrics=['accuracy'])\n",
    "model_3.compile(optimizer='adam', loss='binary_crossentropy', metrics=['accuracy'])\n",
    "model_3.summary()"
   ]
  },
  {
   "cell_type": "code",
   "execution_count": 11,
   "metadata": {},
   "outputs": [
    {
     "name": "stdout",
     "output_type": "stream",
     "text": [
      "Data splited\n"
     ]
    }
   ],
   "source": [
    "from sklearn.model_selection import train_test_split\n",
    "\n",
    "X_train_3D, X_val_3D, Y_train_3D, Y_val_3D = train_test_split(X_data_3D, Y_data_3D, test_size=0.25,random_state=42)\n",
    "print(\"Data splited\")"
   ]
  },
  {
   "cell_type": "code",
   "execution_count": 16,
   "metadata": {},
   "outputs": [
    {
     "name": "stdout",
     "output_type": "stream",
     "text": [
      "Epoch 1/50\n",
      "39/39 [==============================] - 24s 525ms/step - loss: 0.6155 - accuracy: 0.6881 - val_loss: 0.8791 - val_accuracy: 0.5769\n",
      "Epoch 2/50\n",
      "39/39 [==============================] - 18s 455ms/step - loss: 0.5965 - accuracy: 0.6785 - val_loss: 15.2468 - val_accuracy: 0.4615\n",
      "Epoch 3/50\n",
      "39/39 [==============================] - 18s 456ms/step - loss: 0.5777 - accuracy: 0.6817 - val_loss: 2.2577 - val_accuracy: 0.4615\n",
      "Epoch 4/50\n",
      "39/39 [==============================] - 18s 458ms/step - loss: 0.5606 - accuracy: 0.7395 - val_loss: 1.0967 - val_accuracy: 0.5385\n",
      "Epoch 5/50\n",
      "39/39 [==============================] - 18s 459ms/step - loss: 0.5478 - accuracy: 0.7395 - val_loss: 6.3585 - val_accuracy: 0.5385\n",
      "Epoch 6/50\n",
      "39/39 [==============================] - 18s 460ms/step - loss: 0.5250 - accuracy: 0.7524 - val_loss: 9.1129 - val_accuracy: 0.5385\n",
      "Epoch 7/50\n",
      "39/39 [==============================] - 18s 460ms/step - loss: 0.5288 - accuracy: 0.7588 - val_loss: 2.8265 - val_accuracy: 0.5385\n",
      "Epoch 8/50\n",
      "39/39 [==============================] - 18s 460ms/step - loss: 0.5340 - accuracy: 0.7556 - val_loss: 0.6669 - val_accuracy: 0.6154\n",
      "Epoch 9/50\n",
      "39/39 [==============================] - 18s 461ms/step - loss: 0.5192 - accuracy: 0.7556 - val_loss: 2.2017 - val_accuracy: 0.5385\n",
      "Epoch 10/50\n",
      "39/39 [==============================] - 18s 461ms/step - loss: 0.4973 - accuracy: 0.7814 - val_loss: 1.9903 - val_accuracy: 0.5385\n",
      "Epoch 11/50\n",
      "39/39 [==============================] - 18s 462ms/step - loss: 0.4909 - accuracy: 0.7621 - val_loss: 1.0580 - val_accuracy: 0.4615\n",
      "Epoch 12/50\n",
      "39/39 [==============================] - 18s 462ms/step - loss: 0.4916 - accuracy: 0.7846 - val_loss: 0.9147 - val_accuracy: 0.4615\n",
      "Epoch 13/50\n",
      "39/39 [==============================] - 18s 462ms/step - loss: 0.4821 - accuracy: 0.7814 - val_loss: 1.6429 - val_accuracy: 0.5385\n",
      "Epoch 14/50\n",
      "39/39 [==============================] - 18s 463ms/step - loss: 0.4724 - accuracy: 0.7749 - val_loss: 1.0469 - val_accuracy: 0.4615\n",
      "Epoch 15/50\n",
      "39/39 [==============================] - 18s 463ms/step - loss: 0.4487 - accuracy: 0.8199 - val_loss: 5.5450 - val_accuracy: 0.4615\n",
      "Epoch 16/50\n",
      "39/39 [==============================] - 18s 463ms/step - loss: 0.4482 - accuracy: 0.8039 - val_loss: 6.1440 - val_accuracy: 0.5385\n",
      "Epoch 17/50\n",
      "39/39 [==============================] - 18s 464ms/step - loss: 0.4246 - accuracy: 0.8232 - val_loss: 2.9195 - val_accuracy: 0.5385\n",
      "Epoch 18/50\n",
      "39/39 [==============================] - 18s 464ms/step - loss: 0.4474 - accuracy: 0.7910 - val_loss: 0.6990 - val_accuracy: 0.4615\n",
      "Epoch 19/50\n",
      "39/39 [==============================] - 18s 464ms/step - loss: 0.4241 - accuracy: 0.8264 - val_loss: 10.7688 - val_accuracy: 0.5385\n",
      "Epoch 20/50\n",
      "39/39 [==============================] - 18s 464ms/step - loss: 0.4364 - accuracy: 0.8296 - val_loss: 6.6328 - val_accuracy: 0.5385\n",
      "Epoch 21/50\n",
      "39/39 [==============================] - 18s 464ms/step - loss: 0.3844 - accuracy: 0.8553 - val_loss: 0.7303 - val_accuracy: 0.4615\n",
      "Epoch 22/50\n",
      "39/39 [==============================] - 18s 464ms/step - loss: 0.4264 - accuracy: 0.8071 - val_loss: 1.5263 - val_accuracy: 0.5385\n",
      "Epoch 23/50\n",
      "39/39 [==============================] - 18s 464ms/step - loss: 0.3991 - accuracy: 0.8457 - val_loss: 2.1263 - val_accuracy: 0.4615\n",
      "Epoch 24/50\n",
      "39/39 [==============================] - 18s 464ms/step - loss: 0.3924 - accuracy: 0.8232 - val_loss: 0.6048 - val_accuracy: 0.7885\n",
      "Epoch 25/50\n",
      "39/39 [==============================] - 18s 464ms/step - loss: 0.3740 - accuracy: 0.8521 - val_loss: 0.6601 - val_accuracy: 0.4904\n",
      "Epoch 26/50\n",
      "39/39 [==============================] - 18s 464ms/step - loss: 0.3982 - accuracy: 0.8392 - val_loss: 5.9128 - val_accuracy: 0.5385\n",
      "Epoch 27/50\n",
      "39/39 [==============================] - 18s 464ms/step - loss: 0.4048 - accuracy: 0.8360 - val_loss: 16.8125 - val_accuracy: 0.5385\n",
      "Epoch 28/50\n",
      "39/39 [==============================] - 18s 464ms/step - loss: 0.4403 - accuracy: 0.8039 - val_loss: 12.4227 - val_accuracy: 0.5385\n",
      "Epoch 29/50\n",
      "39/39 [==============================] - 18s 465ms/step - loss: 0.3781 - accuracy: 0.8328 - val_loss: 14.4583 - val_accuracy: 0.5385\n",
      "Epoch 30/50\n",
      "39/39 [==============================] - 18s 465ms/step - loss: 0.4278 - accuracy: 0.8135 - val_loss: 0.7798 - val_accuracy: 0.5385\n",
      "Epoch 31/50\n",
      "39/39 [==============================] - 18s 464ms/step - loss: 0.4181 - accuracy: 0.8039 - val_loss: 1.4614 - val_accuracy: 0.5385\n",
      "Epoch 32/50\n",
      "39/39 [==============================] - 18s 465ms/step - loss: 0.4051 - accuracy: 0.8264 - val_loss: 0.4633 - val_accuracy: 0.8173\n",
      "Epoch 33/50\n",
      "39/39 [==============================] - 18s 467ms/step - loss: 0.3839 - accuracy: 0.8328 - val_loss: 5.6463 - val_accuracy: 0.5385\n",
      "Epoch 34/50\n",
      "39/39 [==============================] - 18s 467ms/step - loss: 0.3551 - accuracy: 0.8521 - val_loss: 1.3617 - val_accuracy: 0.4615\n",
      "Epoch 35/50\n",
      "39/39 [==============================] - 18s 467ms/step - loss: 0.3721 - accuracy: 0.8457 - val_loss: 0.7741 - val_accuracy: 0.5673\n",
      "Epoch 36/50\n",
      "39/39 [==============================] - 18s 467ms/step - loss: 0.3884 - accuracy: 0.8360 - val_loss: 1.3446 - val_accuracy: 0.5385\n",
      "Epoch 37/50\n",
      "39/39 [==============================] - 18s 468ms/step - loss: 0.3470 - accuracy: 0.8682 - val_loss: 2.5432 - val_accuracy: 0.5385\n",
      "Epoch 38/50\n",
      "39/39 [==============================] - 18s 468ms/step - loss: 0.3351 - accuracy: 0.8553 - val_loss: 0.7641 - val_accuracy: 0.6250\n",
      "Epoch 39/50\n",
      "39/39 [==============================] - 18s 467ms/step - loss: 0.3359 - accuracy: 0.8585 - val_loss: 0.6010 - val_accuracy: 0.7019\n",
      "Epoch 40/50\n",
      "39/39 [==============================] - 18s 467ms/step - loss: 0.3770 - accuracy: 0.8553 - val_loss: 0.6007 - val_accuracy: 0.6346\n",
      "Epoch 41/50\n",
      "39/39 [==============================] - 18s 466ms/step - loss: 0.3436 - accuracy: 0.8521 - val_loss: 6.5077 - val_accuracy: 0.5385\n",
      "Epoch 42/50\n",
      "39/39 [==============================] - 18s 466ms/step - loss: 0.3557 - accuracy: 0.8457 - val_loss: 7.4924 - val_accuracy: 0.4615\n",
      "Epoch 43/50\n",
      "39/39 [==============================] - 18s 467ms/step - loss: 0.2891 - accuracy: 0.8907 - val_loss: 35.7813 - val_accuracy: 0.4615\n",
      "Epoch 44/50\n",
      "39/39 [==============================] - 18s 467ms/step - loss: 0.3227 - accuracy: 0.8650 - val_loss: 9.3499 - val_accuracy: 0.5385\n",
      "Epoch 45/50\n",
      "39/39 [==============================] - 18s 466ms/step - loss: 0.3214 - accuracy: 0.8714 - val_loss: 13.5957 - val_accuracy: 0.5385\n",
      "Epoch 46/50\n",
      "39/39 [==============================] - 18s 466ms/step - loss: 0.3118 - accuracy: 0.8521 - val_loss: 13.5679 - val_accuracy: 0.5385\n",
      "Epoch 47/50\n",
      "39/39 [==============================] - 18s 466ms/step - loss: 0.3438 - accuracy: 0.8617 - val_loss: 1.8703 - val_accuracy: 0.4615\n",
      "Epoch 48/50\n",
      "39/39 [==============================] - 18s 466ms/step - loss: 0.3088 - accuracy: 0.8778 - val_loss: 2.8076 - val_accuracy: 0.5385\n",
      "Epoch 49/50\n",
      "39/39 [==============================] - 18s 466ms/step - loss: 0.2969 - accuracy: 0.8553 - val_loss: 0.5766 - val_accuracy: 0.6635\n",
      "Epoch 50/50\n",
      "39/39 [==============================] - 18s 466ms/step - loss: 0.2627 - accuracy: 0.9035 - val_loss: 6.7715 - val_accuracy: 0.4615\n"
     ]
    }
   ],
   "source": [
    "history = model_3.fit(X_train_3D, Y_train_3D, epochs= 50, batch_size=8, validation_data=(X_val_3D, Y_val_3D))"
   ]
  },
  {
   "cell_type": "code",
   "execution_count": 17,
   "metadata": {},
   "outputs": [
    {
     "data": {
      "image/png": "[encoded data removed]",
      "text/plain": [
       "<Figure size 432x288 with 1 Axes>"
      ]
     },
     "metadata": {
      "needs_background": "light"
     },
     "output_type": "display_data"
    },
    {
     "data": {
      "image/png": "[encoded data removed]",
      "text/plain": [
       "<Figure size 432x288 with 1 Axes>"
      ]
     },
     "metadata": {
      "needs_background": "light"
     },
     "output_type": "display_data"
    }
   ],
   "source": [
    "plot_loss_curves(history)"
   ]
  },
  {
   "cell_type": "code",
   "execution_count": null,
   "metadata": {},
   "outputs": [],
   "source": [
    "final_test_X = []\n",
    "path = str(Path().resolve())\n",
    "path = path + \"\\\\ADNI_PROCESSED\"\n",
    "for index in X_test_index:\n",
    "    file = path + '\\\\n_mmni_fADNI_' + index + '_1.5T_t1w.nii.gz'\n",
    "    if os.path.isfile(file):\n",
    "        img_n_mmni = nib.load(file)\n",
    "        img_data = cut_2D_i(img_n_mmni, \"y\", 102)\n",
    "        #img_data = np.transpose(img_data, (0, 2, 1))/255.0\n",
    "        final_test_X.append(img_data)\n",
    "final_test_X = np.array(final_test_X)\n",
    "y_pred = model_2.predict(final_test_X)\n",
    "print(y_pred)\n",
    "plt.figure(figsize=(10,10))\n",
    "for n in range(len(X_test_index)):\n",
    "    ax = plt.subplot(2,2,n+1)\n",
    "    plt.imshow(final_test_X[n])\n",
    "    title = \"Probability of: \" + str(y_pred[n][0]*100) + \"% AD\"\n",
    "    plt.title(title)\n",
    "\n",
    "for n in range(len(X_test_index)):\n",
    "    print(\"IRM Correspond to : \" + y_data['Group'][X_test_index[n]] + \", Prediction: \" + str(y_pred[n][0]*100) + \"% AD\")"
   ]
  },
  {
   "cell_type": "code",
   "execution_count": null,
   "metadata": {},
   "outputs": [],
   "source": []
  }
 ],
 "metadata": {
  "interpreter": {
   "hash": "b3ba2566441a7c06988d0923437866b63cedc61552a5af99d1f4fb67d367b25f"
  },
  "kernelspec": {
   "display_name": "Python 3",
   "language": "python",
   "name": "python3"
  },
  "language_info": {
   "codemirror_mode": {
    "name": "ipython",
    "version": 3
   },
   "file_extension": ".py",
   "mimetype": "text/x-python",
   "name": "python",
   "nbconvert_exporter": "python",
   "pygments_lexer": "ipython3",
   "version": "3.9.5"
  }
 },
 "nbformat": 4,
 "nbformat_minor": 4
}
