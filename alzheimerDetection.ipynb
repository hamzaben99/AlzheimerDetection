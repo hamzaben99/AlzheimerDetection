{
 "cells": [
  {
   "cell_type": "code",
   "execution_count": null,
   "metadata": {},
   "outputs": [],
   "source": [
    "import os\n",
    "import numpy as np\n",
    "from nibabel.testing import data_path\n",
    "import nibabel as nib\n",
    "from pathlib import Path\n",
    "\n",
    "def apply_mask(img_n_mmni, img_mask):\n",
    "    \"\"\"\n",
    "        Taking a n_mmni and apply the correspondant mask\n",
    "        param:\n",
    "            img_n_mmi   : image n_mmi\n",
    "            img_mask    : mask\n",
    "    \"\"\"\n",
    "    mmni_m = img_n_mmni.get_fdata()\n",
    "    mask_m = img_mask.get_fdata().astype(bool)\n",
    "    mask_bg = np.logical_not(mask_m)\n",
    "    mmni_m[mask_bg] = 0\n",
    "    return mmni_m\n",
    "\n",
    "def process_irm_data():\n",
    "    \"\"\"\n",
    "        Create a new directory and process all images from tha ADNI1 directory\n",
    "    \"\"\"\n",
    "    path = str(Path().resolve())\n",
    "    path_res = path + \"\\\\ADNI_PROCESSED\"\n",
    "    Path(path_res).mkdir(parents=True, exist_ok=True) # Create a directory for data processed\n",
    "    path = path + \"\\\\ADNI1\"\n",
    "    for filename in os.listdir(path):\n",
    "        if filename.startswith(\"n_mmni\"):\n",
    "            n_mmni_filename = os.path.join(path, filename)\n",
    "            mask_filename = os.path.join(path, \"mask_\" + filename)\n",
    "            img_n_mmni = nib.load(n_mmni_filename)\n",
    "            img_mask = nib.load(mask_filename)\n",
    "            n_mmni_mask = apply_mask(img_n_mmni, img_mask)\n",
    "            img = nib.Nifti1Image(n_mmni_mask, np.eye(4))\n",
    "            nib.save(img, os.path.join(path_res, filename))\n",
    "\n",
    "process_irm_data()"
   ]
  },
  {
   "cell_type": "code",
   "execution_count": null,
   "metadata": {},
   "outputs": [],
   "source": [
    "def load_processed_data(path):\n",
    "    \"\"\"\n",
    "        load all n_mmni found in the path\n",
    "    \"\"\"\n",
    "    if not os.path.isdir(path):\n",
    "        print(\"Can't found directory: \" + path)\n",
    "    else:\n",
    "        list_x = []\n",
    "        for filename in os.listdir(path):\n",
    "            n_mmni_filename = os.path.join(path, filename)\n",
    "            img_n_mmni = nib.load(n_mmni_filename)\n",
    "            mmni_matrix = img_n_mmni.get_fdata()\n",
    "            list_x.append((filename, mmni_matrix))\n",
    "        return list_x\n",
    "\n",
    "# Not tested yet; crashed last time\n",
    "path = str(Path().resolve())\n",
    "path_to_data_proc = path + \"\\\\ADNI_PROCESSED\"\n",
    "X = load_processed_data(path_to_data_proc)"
   ]
  }
 ],
 "metadata": {
  "kernelspec": {
   "display_name": "Python 3.8.1 64-bit",
   "language": "python",
   "name": "python38164bit9937144fc0724eeca026212024fc643a"
  }
 },
 "nbformat": 4,
 "nbformat_minor": 4
}
